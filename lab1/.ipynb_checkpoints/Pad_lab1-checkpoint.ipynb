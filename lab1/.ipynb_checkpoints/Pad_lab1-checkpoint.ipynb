{
 "cells": [
  {
   "cell_type": "markdown",
   "metadata": {
    "id": "qaCY-PMGm_uR"
   },
   "source": [
    "**Лабораторная работа 1. Прогнозирование моделью линейной регрессии**"
   ]
  },
  {
   "cell_type": "markdown",
   "metadata": {
    "id": "Fzf_NkWMqMuf"
   },
   "source": [
    "**Задание 0. Добавление данных**"
   ]
  },
  {
   "cell_type": "markdown",
   "metadata": {
    "id": "sThi6-jsqU-U"
   },
   "source": [
    "Загрузим данные, используя numpy. X - матрица целевых признаков, Y - матрица целевых значений."
   ]
  },
  {
   "cell_type": "code",
   "execution_count": 78,
   "metadata": {
    "colab": {
     "base_uri": "https://localhost:8080/"
    },
    "id": "C7dA_OhajCHU",
    "outputId": "7824d4ff-db69-47e1-a64a-307b90b93735"
   },
   "outputs": [
    {
     "name": "stdout",
     "output_type": "stream",
     "text": [
      "Матрица X и Y [[9.200e+00 1.590e+01 7.800e+00 5.300e+00 1.670e+01 1.690e+02 1.480e+02\n",
      "  2.270e+01 2.094e+03]\n",
      " [7.600e+00 1.640e+01 6.700e+00 4.700e+00 1.550e+01 1.440e+02 1.500e+02\n",
      "  2.790e+01 1.768e+03]\n",
      " [7.300e+00 1.830e+01 6.300e+00 4.900e+00 1.960e+01 1.380e+02 1.330e+02\n",
      "  3.370e+01 1.982e+03]\n",
      " [7.900e+00 1.640e+01 6.800e+00 5.000e+00 1.760e+01 1.970e+02 1.550e+02\n",
      "  2.660e+01 1.621e+03]\n",
      " [7.900e+00 1.700e+01 6.300e+00 4.400e+00 2.010e+01 1.820e+02 1.590e+02\n",
      "  3.050e+01 1.631e+03]\n",
      " [8.000e+00 1.690e+01 8.200e+00 4.600e+00 1.550e+01 5.200e+02 1.970e+02\n",
      "  1.910e+01 1.066e+03]\n",
      " [7.200e+00 1.760e+01 8.100e+00 5.200e+00 1.610e+01 1.430e+02 1.650e+02\n",
      "  3.120e+01 1.183e+03]\n",
      " [8.700e+00 1.600e+01 7.600e+00 4.400e+00 1.890e+01 2.140e+02 1.610e+02\n",
      "  2.270e+01 1.308e+03]\n",
      " [7.800e+00 1.790e+01 7.200e+00 4.300e+00 1.570e+01 1.580e+02 1.630e+02\n",
      "  2.440e+01 1.475e+03]\n",
      " [8.000e+00 1.690e+01 6.900e+00 4.700e+00 1.680e+01 1.850e+02 1.460e+02\n",
      "  1.980e+01 2.081e+03]\n",
      " [7.500e+00 1.940e+01 6.700e+00 4.600e+00 1.930e+01 1.530e+02 1.650e+02\n",
      "  2.860e+01 2.109e+03]\n",
      " [7.300e+00 1.940e+01 7.400e+00 5.000e+00 2.010e+01 2.000e+02 1.750e+02\n",
      "  1.620e+01 1.757e+03]\n",
      " [7.600e+00 1.730e+01 7.100e+00 5.300e+00 1.200e+01 1.800e+02 1.540e+02\n",
      "  2.130e+01 2.111e+03]\n",
      " [9.400e+00 1.480e+01 8.100e+00 5.000e+00 1.470e+01 2.000e+02 1.950e+02\n",
      "  1.990e+01 1.128e+03]\n",
      " [8.300e+00 1.660e+01 7.700e+00 4.400e+00 1.540e+01 1.820e+02 1.570e+02\n",
      "  2.310e+01 1.295e+03]\n",
      " [8.500e+00 1.670e+01 8.000e+00 4.100e+00 1.710e+01 1.790e+02 1.770e+02\n",
      "  2.020e+01 1.803e+03]\n",
      " [8.400e+00 1.610e+01 7.600e+00 4.600e+00 1.670e+01 1.810e+02 1.910e+02\n",
      "  1.860e+01 1.358e+03]\n",
      " [8.400e+00 1.730e+01 7.300e+00 4.100e+00 1.940e+01 1.830e+02 1.700e+02\n",
      "  2.200e+01 1.549e+03]\n",
      " [1.070e+01 1.440e+01 8.000e+00 4.000e+00 1.870e+01 1.290e+02 1.300e+02\n",
      "  4.630e+01 1.344e+03]\n",
      " [2.180e+01 7.500e+00 6.900e+00 1.300e+00 1.760e+01 8.600e+01 7.900e+01\n",
      "  4.150e+01 6.730e+02]\n",
      " [1.370e+01 1.040e+01 7.100e+00 3.400e+00 1.450e+01 1.280e+02 1.020e+02\n",
      "  4.250e+01 8.590e+02]\n",
      " [1.290e+01 1.030e+01 7.000e+00 3.300e+00 1.630e+01 1.230e+02 1.070e+02\n",
      "  4.570e+01 9.250e+02]\n",
      " [1.330e+01 1.300e+01 6.600e+00 2.600e+00 1.780e+01 1.280e+02 1.010e+02\n",
      "  4.280e+01 9.680e+02]\n",
      " [1.000e+01 1.530e+01 8.800e+00 5.000e+00 1.920e+01 1.750e+02 1.600e+02\n",
      "  3.240e+01 1.565e+03]\n",
      " [1.070e+01 1.350e+01 8.100e+00 4.500e+00 2.170e+01 1.510e+02 1.540e+02\n",
      "  3.960e+01 1.325e+03]\n",
      " [9.200e+00 1.580e+01 8.000e+00 4.800e+00 1.870e+01 1.460e+02 1.400e+02\n",
      "  3.340e+01 1.497e+03]\n",
      " [1.420e+01 1.310e+01 7.100e+00 3.800e+00 2.790e+01 1.880e+02 1.480e+02\n",
      "  2.620e+01 2.176e+03]\n",
      " [8.700e+00 1.470e+01 7.300e+00 4.400e+00 2.080e+01 1.580e+02 1.460e+02\n",
      "  3.370e+01 1.871e+03]\n",
      " [8.900e+00 1.660e+01 7.000e+00 4.900e+00 1.960e+01 2.540e+02 2.600e+02\n",
      "  1.610e+01 1.563e+03]\n",
      " [8.500e+00 1.410e+01 7.000e+00 4.500e+00 1.590e+01 1.360e+02 1.560e+02\n",
      "  3.980e+01 2.665e+03]\n",
      " [1.020e+01 1.230e+01 7.300e+00 4.600e+00 1.630e+01 1.570e+02 1.700e+02\n",
      "  2.970e+01 2.273e+03]\n",
      " [9.100e+00 1.300e+01 7.000e+00 5.300e+00 2.120e+01 1.730e+02 1.900e+02\n",
      "  3.060e+01 2.635e+03]\n",
      " [1.060e+01 9.800e+00 7.900e+00 5.700e+00 2.130e+01 2.900e+02 2.930e+02\n",
      "  1.920e+01 2.478e+03]\n",
      " [1.170e+01 1.200e+01 6.500e+00 3.500e+00 1.520e+01 1.220e+02 1.550e+02\n",
      "  5.520e+01 2.580e+03]\n",
      " [2.000e+01 1.300e+01 5.900e+00 1.900e+00 2.800e+01 8.400e+01 1.010e+02\n",
      "  7.320e+01 2.713e+03]\n",
      " [9.900e+00 1.400e+01 7.100e+00 4.400e+00 2.460e+01 1.610e+02 2.010e+02\n",
      "  2.530e+01 2.222e+03]\n",
      " [9.800e+00 1.400e+01 7.200e+00 4.800e+00 1.980e+01 2.460e+02 2.960e+02\n",
      "  2.420e+01 2.417e+03]\n",
      " [1.060e+01 1.460e+01 6.300e+00 3.300e+00 1.810e+01 1.700e+02 2.150e+02\n",
      "  3.230e+01 2.317e+03]\n",
      " [1.220e+01 1.280e+01 6.900e+00 4.000e+00 2.080e+01 9.900e+01 1.120e+02\n",
      "  6.650e+01 2.784e+03]\n",
      " [1.530e+01 9.800e+00 8.000e+00 4.700e+00 1.950e+01 1.700e+02 2.010e+02\n",
      "  2.920e+01 1.483e+03]\n",
      " [1.090e+01 1.360e+01 7.300e+00 5.200e+00 2.640e+01 1.300e+02 1.250e+02\n",
      "  2.850e+01 3.276e+03]\n",
      " [9.800e+00 8.600e+00 7.300e+00 8.900e+00 3.400e+01 8.500e+01 7.300e+01\n",
      "  2.640e+01 1.148e+03]\n",
      " [9.400e+00 1.310e+01 6.600e+00 4.700e+00 2.150e+01 1.440e+02 1.700e+02\n",
      "  3.180e+01 3.095e+03]\n",
      " [9.300e+00 1.310e+01 6.600e+00 5.700e+00 1.780e+01 1.530e+02 1.710e+02\n",
      "  2.940e+01 2.881e+03]\n",
      " [1.010e+01 1.200e+01 7.200e+00 4.900e+00 2.360e+01 1.750e+02 1.870e+02\n",
      "  3.790e+01 2.017e+03]\n",
      " [9.100e+00 1.120e+01 7.900e+00 6.700e+00 1.540e+01 2.110e+02 2.280e+02\n",
      "  2.270e+01 2.064e+03]\n",
      " [8.300e+00 1.090e+01 7.200e+00 7.100e+00 1.420e+01 2.020e+02 1.870e+02\n",
      "  2.460e+01 3.068e+03]\n",
      " [8.900e+00 1.700e+01 7.200e+00 5.700e+00 2.270e+01 1.450e+02 1.690e+02\n",
      "  2.460e+01 3.588e+03]\n",
      " [8.600e+00 1.360e+01 7.800e+00 6.000e+00 1.540e+01 1.550e+02 1.450e+02\n",
      "  2.660e+01 2.471e+03]] [[60.1]\n",
      " [58.5]\n",
      " [57.4]\n",
      " [58.5]\n",
      " [58.3]\n",
      " [58.2]\n",
      " [56.5]\n",
      " [59.2]\n",
      " [58.1]\n",
      " [58.8]\n",
      " [56.5]\n",
      " [57.1]\n",
      " [58.3]\n",
      " [61.9]\n",
      " [61. ]\n",
      " [60.2]\n",
      " [59.5]\n",
      " [59.3]\n",
      " [60.6]\n",
      " [65.9]\n",
      " [62.6]\n",
      " [63.9]\n",
      " [59.5]\n",
      " [59.4]\n",
      " [61. ]\n",
      " [59.4]\n",
      " [55.1]\n",
      " [58.3]\n",
      " [55.4]\n",
      " [59.1]\n",
      " [60.6]\n",
      " [58.2]\n",
      " [57.8]\n",
      " [57.2]\n",
      " [49.7]\n",
      " [56. ]\n",
      " [56. ]\n",
      " [54.7]\n",
      " [56.2]\n",
      " [57. ]\n",
      " [55. ]\n",
      " [57.8]\n",
      " [57.8]\n",
      " [57.2]\n",
      " [58. ]\n",
      " [56.3]\n",
      " [55.7]\n",
      " [50.7]\n",
      " [58.9]]\n"
     ]
    }
   ],
   "source": [
    "import pandas as pd\n",
    "import seaborn as sns\n",
    "from sklearn.metrics import mean_squared_error\n",
    "## получение данных\n",
    "\n",
    "df = pd.read_excel('data.xlsx')\n",
    "Y = df['Y'].values.reshape(49, 1)\n",
    "X = df.iloc[:, 2:].values\n",
    "print('Матрица X и Y', X, Y)"
   ]
  },
  {
   "cell_type": "markdown",
   "metadata": {
    "id": "7dkdHkagr-Ez"
   },
   "source": [
    "**Задание 1. Нормализация данных.**"
   ]
  },
  {
   "cell_type": "markdown",
   "metadata": {
    "id": "lQoeh7L2wed8"
   },
   "source": [
    "Используем Z-нормализацию, так как разброс данных слишком большой.\n"
   ]
  },
  {
   "cell_type": "code",
   "execution_count": 79,
   "metadata": {
    "colab": {
     "base_uri": "https://localhost:8080/"
    },
    "id": "qYY4FzZSsCVs",
    "outputId": "470b18a5-4ffa-4145-e47e-19cc5346d8a2"
   },
   "outputs": [
    {
     "name": "stdout",
     "output_type": "stream",
     "text": [
      "[[-0.38524381 -0.37171923 -0.36066866 -0.37402831 -0.37815165 -0.35934919\n",
      "  -0.10815489 -0.142791   -0.34945316  3.06682235]\n",
      " [-0.38524381 -0.37435817 -0.35984399 -0.37584258 -0.37914126 -0.3613284\n",
      "  -0.14938836 -0.13949233 -0.3408766   2.52913789]\n",
      " [-0.38524381 -0.37485298 -0.35671025 -0.37650232 -0.37881139 -0.35456611\n",
      "  -0.15928439 -0.16753109 -0.33131043  2.8820964 ]\n",
      " [-0.38524381 -0.37386337 -0.35984399 -0.37567765 -0.37864646 -0.35786479\n",
      "  -0.0619734  -0.13124563 -0.34302074  2.28668508]\n",
      " [-0.38524381 -0.37386337 -0.35885439 -0.37650232 -0.37963606 -0.35374144\n",
      "  -0.08671348 -0.12464828 -0.33658832  2.30317847]\n",
      " [-0.38524381 -0.37369844 -0.35901932 -0.37336857 -0.37930619 -0.3613284\n",
      "   0.47076304 -0.0619734  -0.35539078  1.37130204]\n",
      " [-0.38524381 -0.37501791 -0.35786479 -0.37353351 -0.37831659 -0.36033879\n",
      "  -0.1510377  -0.11475224 -0.33543378  1.56427468]\n",
      " [-0.38524381 -0.3725439  -0.36050373 -0.37435817 -0.37963606 -0.35572065\n",
      "  -0.03393464 -0.1213496  -0.34945316  1.77044203]\n",
      " [-0.38524381 -0.37402831 -0.35736998 -0.37501791 -0.37980099 -0.36099853\n",
      "  -0.12629762 -0.11805092 -0.34664928  2.04588162]\n",
      " [-0.38524381 -0.37369844 -0.35901932 -0.37551271 -0.37914126 -0.35918426\n",
      "  -0.08176547 -0.14608968 -0.35423624  3.04538094]\n",
      " [-0.38524381 -0.37452311 -0.35489598 -0.37584258 -0.37930619 -0.35506091\n",
      "  -0.13454431 -0.11475224 -0.33972206  3.09156243]\n",
      " [-0.38524381 -0.37485298 -0.35489598 -0.37468804 -0.37864646 -0.35374144\n",
      "  -0.05702538 -0.09825886 -0.36017386  2.51099516]\n",
      " [-0.38524381 -0.37435817 -0.35835959 -0.37518284 -0.37815165 -0.36710108\n",
      "  -0.09001216 -0.13289497 -0.35176223  3.09486111]\n",
      " [-0.38524381 -0.37138936 -0.36248294 -0.37353351 -0.37864646 -0.36264787\n",
      "  -0.05702538 -0.06527208 -0.35407131  1.47356104]\n",
      " [-0.38524381 -0.37320364 -0.35951413 -0.37419324 -0.37963606 -0.36149333\n",
      "  -0.08671348 -0.12794695 -0.34879342  1.74900063]\n",
      " [-0.38524381 -0.37287377 -0.35934919 -0.37369844 -0.38013086 -0.35868946\n",
      "  -0.0916615  -0.09496018 -0.35357651  2.58686475]\n",
      " [-0.38524381 -0.3730387  -0.36033879 -0.37435817 -0.37930619 -0.35934919\n",
      "  -0.08836282 -0.07186943 -0.35621545  1.85290897]\n",
      " [-0.38524381 -0.3730387  -0.35835959 -0.37485298 -0.38013086 -0.35489598\n",
      "  -0.08506414 -0.10650555 -0.3506077   2.16793269]\n",
      " [-0.38524381 -0.36924522 -0.36314267 -0.37369844 -0.38029579 -0.35605051\n",
      "  -0.17412844 -0.1724791  -0.31052876  1.82981823]\n",
      " [-0.38524381 -0.35093756 -0.37452311 -0.37551271 -0.38474901 -0.35786479\n",
      "  -0.24505001 -0.25659538 -0.31844559  0.72311188]\n",
      " [-0.38524381 -0.36429721 -0.36974003 -0.37518284 -0.3812854  -0.36297774\n",
      "  -0.17577778 -0.21866059 -0.31679625  1.0298889 ]\n",
      " [-0.38524381 -0.36561668 -0.36990496 -0.37534778 -0.38145033 -0.36000893\n",
      "  -0.18402447 -0.2104139  -0.31151837  1.13874526]\n",
      " [-0.38524381 -0.36495694 -0.36545175 -0.37600751 -0.38260487 -0.35753492\n",
      "  -0.17577778 -0.22030993 -0.31630145  1.20966683]\n",
      " [-0.38524381 -0.37039976 -0.36165827 -0.37237897 -0.37864646 -0.35522584\n",
      "  -0.09825886 -0.12299894 -0.33345457  2.19432211]\n",
      " [-0.38524381 -0.36924522 -0.36462708 -0.37353351 -0.37947113 -0.3511025\n",
      "  -0.13784299 -0.13289497 -0.32157933  1.79848079]\n",
      " [-0.38524381 -0.37171923 -0.3608336  -0.37369844 -0.37897632 -0.35605051\n",
      "  -0.14608968 -0.15598571 -0.33180523  2.08216707]\n",
      " [-0.38524381 -0.36347254 -0.36528681 -0.37518284 -0.38062566 -0.3408766\n",
      "  -0.07681745 -0.142791   -0.34368047  3.20206813]\n",
      " [-0.38524381 -0.3725439  -0.36264787 -0.37485298 -0.37963606 -0.3525869\n",
      "  -0.12629762 -0.14608968 -0.33131043  2.69901979]\n",
      " [-0.38524381 -0.37221403 -0.35951413 -0.37534778 -0.37881139 -0.35456611\n",
      "   0.03203891  0.04193494 -0.36033879  2.19102343]\n",
      " [-0.38524381 -0.37287377 -0.36363747 -0.37534778 -0.37947113 -0.36066866\n",
      "  -0.16258307 -0.12959629 -0.32124946  4.00859482]\n",
      " [-0.38524381 -0.37006989 -0.36660628 -0.37485298 -0.37930619 -0.36000893\n",
      "  -0.12794695 -0.10650555 -0.33790779  3.362054  ]\n",
      " [-0.38524381 -0.37188417 -0.36545175 -0.37534778 -0.37815165 -0.35192717\n",
      "  -0.10155753 -0.07351877 -0.33642338  3.95911465]\n",
      " [-0.38524381 -0.36941016 -0.37072963 -0.37386337 -0.37749192 -0.35176223\n",
      "   0.09141511  0.09636313 -0.35522584  3.70016846]\n",
      " [-0.38524381 -0.36759589 -0.36710108 -0.37617245 -0.38112046 -0.3618232\n",
      "  -0.18567381 -0.13124563 -0.29584965  3.86840102]\n",
      " [-0.38524381 -0.35390637 -0.36545175 -0.37716205 -0.38375941 -0.34071166\n",
      "  -0.24834869 -0.22030993 -0.26616155  4.08776308]\n",
      " [-0.38524381 -0.3705647  -0.36380241 -0.37518284 -0.37963606 -0.34631941\n",
      "  -0.1213496  -0.05537605 -0.34516488  3.27793772]\n",
      " [-0.38524381 -0.37072963 -0.36380241 -0.37501791 -0.37897632 -0.35423624\n",
      "   0.0188442   0.10131114 -0.34697915  3.59955879]\n",
      " [-0.38524381 -0.36941016 -0.3628128  -0.37650232 -0.38145033 -0.35704012\n",
      "  -0.10650555 -0.0322853  -0.33361951  3.43462491]\n",
      " [-0.38524381 -0.36677122 -0.36578161 -0.37551271 -0.38029579 -0.3525869\n",
      "  -0.22360861 -0.2021672  -0.27721212  4.20486614]\n",
      " [-0.38524381 -0.36165827 -0.37072963 -0.37369844 -0.37914126 -0.35473104\n",
      "  -0.10650555 -0.05537605 -0.33873246  2.05907633]\n",
      " [-0.38524381 -0.36891536 -0.36446214 -0.37485298 -0.37831659 -0.3433506\n",
      "  -0.1724791  -0.1807258  -0.33988699  5.01634084]\n",
      " [-0.38524381 -0.37072963 -0.37270884 -0.37485298 -0.37221403 -0.33081563\n",
      "  -0.24669935 -0.26649142 -0.3433506   1.50654782]\n",
      " [-0.38524381 -0.37138936 -0.36528681 -0.37600751 -0.37914126 -0.35143237\n",
      "  -0.14938836 -0.10650555 -0.33444418  4.71781051]\n",
      " [-0.38524381 -0.3715543  -0.36528681 -0.37600751 -0.37749192 -0.35753492\n",
      "  -0.13454431 -0.10485621 -0.33840259  4.364852  ]\n",
      " [-0.38524381 -0.37023483 -0.36710108 -0.37501791 -0.37881139 -0.34796875\n",
      "  -0.09825886 -0.07846679 -0.32438321  2.93982326]\n",
      " [-0.38524381 -0.37188417 -0.36842056 -0.37386337 -0.37584258 -0.36149333\n",
      "  -0.03888266 -0.0108439  -0.34945316  3.01734218]\n",
      " [-0.38524381 -0.37320364 -0.36891536 -0.37501791 -0.37518284 -0.36347254\n",
      "  -0.05372671 -0.07846679 -0.34631941  4.67327836]\n",
      " [-0.38524381 -0.37221403 -0.35885439 -0.37501791 -0.37749192 -0.34945316\n",
      "  -0.14773902 -0.10815489 -0.34631941  5.53093455]\n",
      " [-0.38524381 -0.37270884 -0.36446214 -0.37402831 -0.37699712 -0.36149333\n",
      "  -0.13124563 -0.14773902 -0.34302074  3.68862309]]\n"
     ]
    }
   ],
   "source": [
    "import numpy as np\n",
    "\n",
    "ones_column = np.ones((X.shape[0], 1))\n",
    "X = np.hstack((ones_column, X))\n",
    "X_default = X\n",
    "X = (X - np.mean(X)) / np.std(X)\n",
    "print (X)"
   ]
  },
  {
   "cell_type": "markdown",
   "metadata": {
    "id": "07lnWgeXxMOX"
   },
   "source": [
    "Задание 2. Расчет весов линейной регрессии по аналитической формуле."
   ]
  },
  {
   "cell_type": "code",
   "execution_count": 80,
   "metadata": {
    "colab": {
     "base_uri": "https://localhost:8080/"
    },
    "id": "xZeRA8zgtArs",
    "outputId": "eafb33e7-c534-4e17-a262-f5b3378a2616"
   },
   "outputs": [
    {
     "name": "stdout",
     "output_type": "stream",
     "text": [
      "Полученные веса: \n",
      " [[ 1.36182928e+03]\n",
      " [-4.93966413e+02]\n",
      " [-5.31440528e+02]\n",
      " [ 6.77967971e+02]\n",
      " [-1.08405420e+03]\n",
      " [-8.81851240e+01]\n",
      " [-3.72217928e+00]\n",
      " [-1.43938646e+01]\n",
      " [-5.62324788e+01]\n",
      " [-8.69835980e-01]]\n"
     ]
    }
   ],
   "source": [
    "# получение ковариационной матрицы\n",
    "cov_mat = np.matmul(np.transpose(X), X)\n",
    "\n",
    "# получение матрицы -1\n",
    "inv_mat = np.linalg.inv(cov_mat)\n",
    "\n",
    "# расчет весов\n",
    "mat = np.matmul(inv_mat, np.transpose(X))\n",
    "weights = np.matmul(mat, Y) # получение матрицы весов\n",
    "\n",
    "print(\"Полученные веса:\", \"\\n\", weights)"
   ]
  },
  {
   "cell_type": "markdown",
   "metadata": {
    "id": "trsa2hwp1Zuv"
   },
   "source": [
    "**Задание 3. Построение и интепретация корреляционной матрицы. Определение степени мультиколлинеарности на основе числа обусловленности.**\n"
   ]
  },
  {
   "cell_type": "code",
   "execution_count": 86,
   "metadata": {
    "colab": {
     "base_uri": "https://localhost:8080/"
    },
    "id": "1c6OiW8o0o2X",
    "outputId": "cac7445d-011a-4313-eec8-278408b92d70"
   },
   "outputs": [
    {
     "data": {
      "image/png": "[encoded data removed]",
      "text/plain": [
       "<Figure size 640x480 with 2 Axes>"
      ]
     },
     "metadata": {},
     "output_type": "display_data"
    }
   ],
   "source": [
    "pd.DataFrame(X).corr()\n",
    "corr_plot = sns.heatmap(pd.DataFrame(X).corr(), cmap=\"coolwarm\", annot=True)"
   ]
  },
  {
   "cell_type": "code",
   "execution_count": 82,
   "metadata": {},
   "outputs": [
    {
     "name": "stdout",
     "output_type": "stream",
     "text": [
      "Ковариационная матрица:\n",
      "[[  7.2722269    6.99112702   6.85604149   7.07722339   7.15836366\n",
      "    6.71136146   1.97745892   2.19921267   6.34619848 -52.58921399]\n",
      " [  6.99112702   6.72202825   6.59031168   6.80361169   6.8813856\n",
      "    6.45238566   1.89219367   2.1079056    6.10369374 -50.58821143]\n",
      " [  6.85604149   6.59031168   6.46469433   6.67220323   6.7487001\n",
      "    6.32692427   1.87025817   2.07569137   5.98137513 -49.58328435]\n",
      " [  7.07722339   6.80361169   6.67220323   6.88749656   6.96644452\n",
      "    6.53134171   1.92630285   2.14106811   6.17566322 -51.19700548]\n",
      " [  7.15836366   6.8813856    6.7487001    6.96644452   7.04646867\n",
      "    6.60636814   1.94837494   2.16666165   6.24586528 -51.7384014 ]\n",
      " [  6.71136146   6.45238566   6.32692427   6.53134171   6.60636814\n",
      "    6.19592744   1.81699635   2.02583321   5.8578696  -48.45383627]\n",
      " [  1.97745892   1.89219367   1.87025817   1.92630285   1.94837494\n",
      "    1.81699635   1.09107324   0.83360208   1.67114245 -14.93218946]\n",
      " [  2.19921267   2.1079056    2.07569137   2.14106811   2.16666165\n",
      "    2.02583321   0.83360208   0.93003076   1.88225378 -14.9484391 ]\n",
      " [  6.34619848   6.10369374   5.98137513   6.17566322   6.24586528\n",
      "    5.8578696    1.67114245   1.88225378   5.55626242 -45.8006124 ]\n",
      " [-52.58921399 -50.58821143 -49.58328435 -51.19700548 -51.7384014\n",
      "  -48.45383627 -14.93218946 -14.9484391  -45.8006124  441.83379142]]\n",
      "Число обусловленности: 59102.37235068017\n"
     ]
    }
   ],
   "source": [
    "print(f\"Ковариационная матрица:\\n{cov_mat}\")\n",
    "print(f\"Число обусловленности: {np.linalg.cond(X_default, p=2)}\")"
   ]
  },
  {
   "cell_type": "markdown",
   "metadata": {
    "id": "ihZAewH75bBD"
   },
   "source": [
    "Число обусловленности равно 59102. Такое высокое значение числа обусловленности является индикатором серьезной мультиколлинеарности в данных.\n"
   ]
  },
  {
   "cell_type": "markdown",
   "metadata": {
    "id": "-nZbtkeT8kO_"
   },
   "source": [
    "**Задание 4. Анализ регрессионных остатков.**"
   ]
  },
  {
   "cell_type": "code",
   "execution_count": 83,
   "metadata": {
    "id": "L0yJfdtR7yik"
   },
   "outputs": [
    {
     "data": {
      "text/plain": [
       "1.1597290496863129"
      ]
     },
     "execution_count": 83,
     "metadata": {},
     "output_type": "execute_result"
    }
   ],
   "source": [
    "y_pred = np.matmul(X, weights)\n",
    "MSE = mean_squared_error(Y, y_pred)\n",
    "RMSE = MSE ** 0.5\n",
    "RMSE"
   ]
  },
  {
   "cell_type": "markdown",
   "metadata": {
    "id": "mTybL4iqAj1_"
   },
   "source": [
    "**Задание 5. Определение весов линейной регрессии градиентным методом. Проанализировать изменение ошибки от итерации к итерации.**"
   ]
  },
  {
   "cell_type": "code",
   "execution_count": 84,
   "metadata": {
    "colab": {
     "base_uri": "https://localhost:8080/"
    },
    "id": "2QRHuaWCE98L",
    "outputId": "dd1bdc2e-7836-4fb0-8781-10bfb02f646f"
   },
   "outputs": [
    {
     "name": "stdout",
     "output_type": "stream",
     "text": [
      "Итерация 1: 3392.3877670535476\n",
      "Итерация 2: 3206.9727903149974\n",
      "Итерация 3: 3031.721111455046\n",
      "Итерация 4: 2866.0747403609075\n",
      "Итерация 5: 2709.506366935953\n",
      "Итерация 6: 2561.5176719706687\n",
      "Итерация 7: 2421.6377311229803\n",
      "Итерация 8: 2289.4215068699423\n",
      "Итерация 9: 2164.448423576517\n",
      "Итерация 10: 2046.3210210953948\n",
      "Итерация 11: 1934.66368256502\n",
      "Итерация 12: 1829.1214323123202\n",
      "Итерация 13: 1729.3587999926845\n",
      "Итерация 14: 1635.0587473133235\n",
      "Итерация 15: 1545.921653887891\n",
      "Итерация 16: 1461.6643589608686\n",
      "Итерация 17: 1382.0192559203024\n",
      "Итерация 18: 1306.733436687588\n",
      "Итерация 19: 1235.567883233749\n",
      "Итерация 20: 1168.2967036234763\n",
      "Итерация 21: 1104.7064101316696\n",
      "Итерация 22: 1044.5952371127123\n",
      "Итерация 23: 987.7724964308221\n",
      "Итерация 24: 934.057968380701\n",
      "Итерация 25: 883.281326142036\n",
      "Итерация 26: 835.2815919193857\n",
      "Итерация 27: 789.9066230209455\n",
      "Итерация 28: 747.0126262260912\n",
      "Итерация 29: 706.4636988826456\n",
      "Итерация 30: 668.1313952608074\n",
      "Итерация 31: 631.8943167719821\n",
      "Итерация 32: 597.6377247375066\n",
      "Итерация 33: 565.253174464819\n",
      "Итерация 34: 534.6381694571476\n",
      "Итерация 35: 505.69583464755374\n",
      "Итерация 36: 478.334607609324\n",
      "Итерация 37: 452.46794675251823\n",
      "Итерация 38: 428.0140555710831\n",
      "Итерация 39: 404.8956220565263\n",
      "Итерация 40: 383.03957244289666\n",
      "Итерация 41: 362.376838493875\n",
      "Итерация 42: 342.8421375862723\n",
      "Итерация 43: 324.3737648853674\n",
      "Итерация 44: 306.9133969463381\n",
      "Итерация 45: 290.40590611274337\n",
      "Итерация 46: 274.7991851176925\n",
      "Итерация 47: 260.0439813260873\n",
      "Итерация 48: 246.09374008728065\n",
      "Итерация 49: 232.90445669674148\n",
      "Итерация 50: 220.4345364929353\n",
      "Итерация 51: 208.64466264175223\n",
      "Итерация 52: 197.49767118546592\n",
      "Итерация 53: 186.95843295652273\n",
      "Итерация 54: 176.99374197847436\n",
      "Итерация 55: 167.57220999717435\n",
      "Итерация 56: 158.66416680502115\n",
      "Итерация 57: 150.2415660395977\n",
      "Итерация 58: 142.27789615561286\n",
      "Итерация 59: 134.74809628562832\n",
      "Итерация 60: 127.62847672072671\n",
      "Итерация 61: 120.89664375707575\n",
      "Итерация 62: 114.5314286683351\n",
      "Итерация 63: 108.51282057706725\n",
      "Итерация 64: 102.82190301080284\n",
      "Итерация 65: 97.44079394020953\n",
      "Итерация 66: 92.3525891079655\n",
      "Итерация 67: 87.54130846747\n",
      "Итерация 68: 82.99184556048185\n",
      "Итерация 69: 78.6899196721789\n",
      "Итерация 70: 74.62203061102191\n",
      "Итерация 71: 70.77541596920248\n",
      "Итерация 72: 67.13801072739122\n",
      "Итерация 73: 63.69840907499864\n",
      "Итерация 74: 60.44582832424796\n",
      "Итерация 75: 57.370074803053534\n",
      "Итерация 76: 54.461511618022705\n",
      "Итерация 77: 51.711028184879325\n",
      "Итерация 78: 49.110011429253674\n",
      "Итерация 79: 46.65031856612066\n",
      "Итерация 80: 44.32425137121315\n",
      "Итерация 81: 42.12453186250172\n",
      "Итерация 82: 40.044279314335476\n",
      "Итерация 83: 38.0769885310951\n",
      "Итерация 84: 36.21650931122867\n",
      "Итерация 85: 34.457027036342794\n",
      "Итерация 86: 32.79304432360973\n",
      "Итерация 87: 31.219363683146682\n",
      "Итерация 88: 29.731071125228222\n",
      "Итерация 89: 28.32352066522239\n",
      "Итерация 90: 26.992319677005792\n",
      "Итерация 91: 25.733315048317053\n",
      "Итерация 92: 24.54258009406544\n",
      "Итерация 93: 23.41640218602722\n",
      "Итерация 94: 22.351271059646\n",
      "Итерация 95: 21.343867760810337\n",
      "Итерация 96: 20.391054197521083\n",
      "Итерация 97: 19.48986326328772\n",
      "Итерация 98: 18.637489500913755\n",
      "Итерация 99: 17.831280277052\n",
      "Итерация 100: 17.06872743953623\n"
     ]
    }
   ],
   "source": [
    "# 1. Инициализация весов\n",
    "weights = np.ones((X.shape[1], 1))\n",
    "learning_rate = 0.1\n",
    "S = []\n",
    "\n",
    "for i in range(100):\n",
    "  # 2. Расчет предсказанного значения y_pred по весам w\n",
    "  y_pred = np.matmul(X, weights)\n",
    "  delta = Y - y_pred\n",
    "\n",
    "  # 3. Расчет ошибки и градиента функции потерь\n",
    "  curr = 0\n",
    "  for i in range(Y.shape[0]):\n",
    "    curr += (pow(Y[i] - y_pred[i], 2))\n",
    "\n",
    "  S.append((1 / X.shape[0]) * curr)\n",
    "\n",
    "  # 4. Установка новых значений весов\n",
    "  dS = (-2 / X.shape[0]) * np.transpose(np.matmul(np.transpose(delta), X))\n",
    "  weights -= learning_rate * dS\n",
    "\n",
    "for i in range (len(S)):\n",
    "  print(f\"Итерация {i + 1}: {S[i][0]}\")"
   ]
  }
 ],
 "metadata": {
  "colab": {
   "provenance": []
  },
  "kernelspec": {
   "display_name": "Python 3 (ipykernel)",
   "language": "python",
   "name": "python3"
  },
  "language_info": {
   "codemirror_mode": {
    "name": "ipython",
    "version": 3
   },
   "file_extension": ".py",
   "mimetype": "text/x-python",
   "name": "python",
   "nbconvert_exporter": "python",
   "pygments_lexer": "ipython3",
   "version": "3.11.5"
  }
 },
 "nbformat": 4,
 "nbformat_minor": 1
}
