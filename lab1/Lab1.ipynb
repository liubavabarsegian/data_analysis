{
 "cells": [
  {
   "cell_type": "markdown",
   "id": "5daaca1f",
   "metadata": {},
   "source": [
    "# Прикладной анализ данных\n",
    "\n",
    "## Лабораторная работа 1. Тема: Прогнозирование моделью линейной регрессии\n",
    "\n",
    "## Вариант 8\n",
    "## Студент: Барсегян Л.Э\n",
    "## Группа: ИУ6-55Б"
   ]
  },
  {
   "cell_type": "markdown",
   "id": "e0213618",
   "metadata": {},
   "source": [
    "### Задание 0. Загрузка данных"
   ]
  },
  {
   "cell_type": "markdown",
   "id": "883a5c25",
   "metadata": {},
   "source": [
    "#### Подключение библиотек"
   ]
  },
  {
   "cell_type": "code",
   "execution_count": 1,
   "id": "ebd435d8",
   "metadata": {},
   "outputs": [],
   "source": [
    "import pandas as pd\n",
    "import numpy as np\n",
    "import seaborn as sns\n",
    "from sklearn.metrics import mean_squared_error, r2_score\n",
    "from sklearn.linear_model import LinearRegression\n",
    "import statsmodels.api as sm"
   ]
  },
  {
   "cell_type": "markdown",
   "id": "0601d119",
   "metadata": {},
   "source": [
    "#### Загрузка данных из файла"
   ]
  },
  {
   "cell_type": "markdown",
   "id": "74b302bd",
   "metadata": {},
   "source": [
    "\n",
    "Для варианта 8 требуется выделить данные по следующим районам:\n",
    "\n",
    "Северный, Центральный, Волго-Вятский, Северо-Кавказсий, Восточно-Сибирский, Дальневосточный районы.\n",
    "\n",
    "В файле `data.xslx` данные именно по этим 6 районам. "
   ]
  },
  {
   "cell_type": "code",
   "execution_count": 2,
   "id": "a2c8c274",
   "metadata": {},
   "outputs": [],
   "source": [
    "df = pd.read_excel('data.xlsx')"
   ]
  },
  {
   "cell_type": "code",
   "execution_count": 3,
   "id": "a91a72a5",
   "metadata": {},
   "outputs": [
    {
     "name": "stdout",
     "output_type": "stream",
     "text": [
      "Матрица целевых значений Y [47x1]:\n",
      "\n",
      " [[54.7]\n",
      " [57. ]\n",
      " [71. ]\n",
      " [57.6]\n",
      " [57.7]\n",
      " [60.1]\n",
      " [58.5]\n",
      " [57.4]\n",
      " [58.5]\n",
      " [58.3]\n",
      " [58.2]\n",
      " [56.5]\n",
      " [59.2]\n",
      " [58.1]\n",
      " [58.8]\n",
      " [56.5]\n",
      " [57.1]\n",
      " [58.3]\n",
      " [59.4]\n",
      " [61.2]\n",
      " [60.4]\n",
      " [58.6]\n",
      " [57.5]\n",
      " [60.6]\n",
      " [65.9]\n",
      " [62.6]\n",
      " [63.9]\n",
      " [59.5]\n",
      " [59.4]\n",
      " [61. ]\n",
      " [59.4]\n",
      " [57.2]\n",
      " [49.7]\n",
      " [56. ]\n",
      " [56. ]\n",
      " [54.7]\n",
      " [56.2]\n",
      " [57. ]\n",
      " [55. ]\n",
      " [57.8]\n",
      " [57.8]\n",
      " [57.2]\n",
      " [58. ]\n",
      " [56.3]\n",
      " [55.7]\n",
      " [50.7]\n",
      " [58.9]] \n",
      "\n",
      "Матрица целевых признаков X [47x9]:\n",
      "\n",
      " [[8.500e+00 1.630e+01 6.800e+00 5.600e+00 1.740e+01 1.630e+02 1.510e+02\n",
      "  2.360e+01 2.344e+03]\n",
      " [9.300e+00 1.260e+01 7.200e+00 5.500e+00 2.530e+01 1.940e+02 2.390e+02\n",
      "  9.200e+00 1.809e+03]\n",
      " [8.700e+00 4.600e+00 6.500e+00 4.200e+00 1.620e+01 1.520e+02 1.920e+02\n",
      "  2.690e+01 2.406e+03]\n",
      " [8.600e+00 6.200e+00 6.100e+00 4.000e+00 1.740e+01 1.900e+02 2.050e+02\n",
      "  2.010e+01 2.023e+03]\n",
      " [8.100e+00 1.140e+01 7.700e+00 6.400e+00 5.900e+00 1.830e+02 1.980e+02\n",
      "  2.200e+01 1.419e+03]\n",
      " [9.200e+00 1.590e+01 7.800e+00 5.300e+00 1.670e+01 1.690e+02 1.480e+02\n",
      "  2.270e+01 2.094e+03]\n",
      " [7.600e+00 1.640e+01 6.700e+00 4.700e+00 1.550e+01 1.440e+02 1.500e+02\n",
      "  2.790e+01 1.768e+03]\n",
      " [7.300e+00 1.830e+01 6.300e+00 4.900e+00 1.960e+01 1.380e+02 1.330e+02\n",
      "  3.370e+01 1.982e+03]\n",
      " [7.900e+00 1.640e+01 6.800e+00 5.000e+00 1.760e+01 1.970e+02 1.550e+02\n",
      "  2.660e+01 1.621e+03]\n",
      " [7.900e+00 1.700e+01 6.300e+00 4.400e+00 2.010e+01 1.820e+02 1.590e+02\n",
      "  3.050e+01 1.631e+03]\n",
      " [8.000e+00 1.690e+01 8.200e+00 4.600e+00 1.550e+01 5.200e+02 1.970e+02\n",
      "  1.910e+01 1.066e+03]\n",
      " [7.200e+00 1.760e+01 8.100e+00 5.200e+00 1.610e+01 1.430e+02 1.650e+02\n",
      "  3.120e+01 1.183e+03]\n",
      " [8.700e+00 1.600e+01 7.600e+00 4.400e+00 1.890e+01 2.140e+02 1.610e+02\n",
      "  2.270e+01 1.308e+03]\n",
      " [7.800e+00 1.790e+01 7.200e+00 4.300e+00 1.570e+01 1.580e+02 1.630e+02\n",
      "  2.440e+01 1.475e+03]\n",
      " [8.000e+00 1.690e+01 6.900e+00 4.700e+00 1.680e+01 1.850e+02 1.460e+02\n",
      "  1.980e+01 2.081e+03]\n",
      " [7.500e+00 1.940e+01 6.700e+00 4.600e+00 1.930e+01 1.530e+02 1.650e+02\n",
      "  2.860e+01 2.109e+03]\n",
      " [7.300e+00 1.940e+01 7.400e+00 5.000e+00 2.010e+01 2.000e+02 1.750e+02\n",
      "  1.620e+01 1.757e+03]\n",
      " [7.600e+00 1.730e+01 7.100e+00 5.300e+00 1.200e+01 1.800e+02 1.540e+02\n",
      "  2.130e+01 2.111e+03]\n",
      " [9.600e+00 1.300e+01 6.400e+00 3.500e+00 1.680e+01 1.200e+02 1.170e+02\n",
      "  4.320e+01 2.112e+03]\n",
      " [9.000e+00 1.410e+01 7.000e+00 3.300e+00 1.520e+01 1.320e+02 1.260e+02\n",
      "  3.470e+01 1.794e+03]\n",
      " [1.020e+01 1.300e+01 7.100e+00 3.200e+00 1.610e+01 1.450e+02 1.210e+02\n",
      "  2.730e+01 1.688e+03]\n",
      " [8.100e+00 1.630e+01 6.200e+00 3.900e+00 1.710e+01 1.370e+02 1.210e+02\n",
      "  3.200e+01 1.774e+03]\n",
      " [8.000e+00 1.750e+01 6.700e+00 4.000e+00 1.640e+01 1.810e+02 1.820e+02\n",
      "  2.200e+01 1.773e+03]\n",
      " [1.070e+01 1.440e+01 8.000e+00 4.000e+00 1.870e+01 1.290e+02 1.300e+02\n",
      "  4.630e+01 1.344e+03]\n",
      " [2.180e+01 7.500e+00 6.900e+00 1.300e+00 1.760e+01 8.600e+01 7.900e+01\n",
      "  4.150e+01 6.730e+02]\n",
      " [1.370e+01 1.040e+01 7.100e+00 3.400e+00 1.450e+01 1.280e+02 1.020e+02\n",
      "  4.250e+01 8.590e+02]\n",
      " [1.290e+01 1.030e+01 7.000e+00 3.300e+00 1.630e+01 1.230e+02 1.070e+02\n",
      "  4.570e+01 9.250e+02]\n",
      " [1.330e+01 1.300e+01 6.600e+00 2.600e+00 1.780e+01 1.280e+02 1.010e+02\n",
      "  4.280e+01 9.680e+02]\n",
      " [1.000e+01 1.530e+01 8.800e+00 5.000e+00 1.920e+01 1.750e+02 1.600e+02\n",
      "  3.240e+01 1.565e+03]\n",
      " [1.070e+01 1.350e+01 8.100e+00 4.500e+00 2.170e+01 1.510e+02 1.540e+02\n",
      "  3.960e+01 1.325e+03]\n",
      " [9.200e+00 1.580e+01 8.000e+00 4.800e+00 1.870e+01 1.460e+02 1.400e+02\n",
      "  3.340e+01 1.497e+03]\n",
      " [1.170e+01 1.200e+01 6.500e+00 3.500e+00 1.520e+01 1.220e+02 1.550e+02\n",
      "  5.520e+01 2.580e+03]\n",
      " [2.000e+01 1.300e+01 5.900e+00 1.900e+00 2.800e+01 8.400e+01 1.010e+02\n",
      "  7.320e+01 2.713e+03]\n",
      " [9.900e+00 1.400e+01 7.100e+00 4.400e+00 2.460e+01 1.610e+02 2.010e+02\n",
      "  2.530e+01 2.222e+03]\n",
      " [9.800e+00 1.400e+01 7.200e+00 4.800e+00 1.980e+01 2.460e+02 2.960e+02\n",
      "  2.420e+01 2.417e+03]\n",
      " [1.060e+01 1.460e+01 6.300e+00 3.300e+00 1.810e+01 1.700e+02 2.150e+02\n",
      "  3.230e+01 2.317e+03]\n",
      " [1.220e+01 1.280e+01 6.900e+00 4.000e+00 2.080e+01 9.900e+01 1.120e+02\n",
      "  6.650e+01 2.784e+03]\n",
      " [1.530e+01 9.800e+00 8.000e+00 4.700e+00 1.950e+01 1.700e+02 2.010e+02\n",
      "  2.920e+01 1.483e+03]\n",
      " [1.090e+01 1.360e+01 7.300e+00 5.200e+00 2.640e+01 1.300e+02 1.250e+02\n",
      "  2.850e+01 3.276e+03]\n",
      " [9.800e+00 8.600e+00 7.300e+00 8.900e+00 3.400e+01 8.500e+01 7.300e+01\n",
      "  2.640e+01 1.148e+03]\n",
      " [9.400e+00 1.310e+01 6.600e+00 4.700e+00 2.150e+01 1.440e+02 1.700e+02\n",
      "  3.180e+01 3.095e+03]\n",
      " [9.300e+00 1.310e+01 6.600e+00 5.700e+00 1.780e+01 1.530e+02 1.710e+02\n",
      "  2.940e+01 2.881e+03]\n",
      " [1.010e+01 1.200e+01 7.200e+00 4.900e+00 2.360e+01 1.750e+02 1.870e+02\n",
      "  3.790e+01 2.017e+03]\n",
      " [9.100e+00 1.120e+01 7.900e+00 6.700e+00 1.540e+01 2.110e+02 2.280e+02\n",
      "  2.270e+01 2.064e+03]\n",
      " [8.300e+00 1.090e+01 7.200e+00 7.100e+00 1.420e+01 2.020e+02 1.870e+02\n",
      "  2.460e+01 3.068e+03]\n",
      " [8.900e+00 1.700e+01 7.200e+00 5.700e+00 2.270e+01 1.450e+02 1.690e+02\n",
      "  2.460e+01 3.588e+03]\n",
      " [8.600e+00 1.360e+01 7.800e+00 6.000e+00 1.540e+01 1.550e+02 1.450e+02\n",
      "  2.660e+01 2.471e+03]]\n"
     ]
    }
   ],
   "source": [
    "Y = df['Y'].values.reshape(47, 1)\n",
    "X = df.iloc[:, 2:].values\n",
    "\n",
    "print('Матрица целевых значений Y [47x1]:\\n\\n', Y, '\\n')\n",
    "print('Матрица целевых признаков X [47x9]:\\n\\n', X)"
   ]
  },
  {
   "cell_type": "markdown",
   "id": "9d98b906",
   "metadata": {},
   "source": [
    "### Задание 1. Нормирование (масштабирование) исходных данных"
   ]
  },
  {
   "cell_type": "markdown",
   "id": "d0848644",
   "metadata": {},
   "source": [
    "Посмотрим разброс данных, выведя минимальное и максимальное значение каждого столбца."
   ]
  },
  {
   "cell_type": "code",
   "execution_count": 4,
   "id": "8ed6adb6",
   "metadata": {},
   "outputs": [
    {
     "name": "stdout",
     "output_type": "stream",
     "text": [
      "x1\tmax: 21.8   \t\tmin: 7.2\n",
      "x2\tmax: 19.4   \t\tmin: 4.6\n",
      "x3\tmax: 8.8   \t\tmin: 5.9\n",
      "x4\tmax: 8.9   \t\tmin: 1.3\n",
      "x5\tmax: 34.0   \t\tmin: 5.9\n",
      "x6\tmax: 520.0   \t\tmin: 84.0\n",
      "x7\tmax: 296.0   \t\tmin: 73.0\n",
      "x8\tmax: 73.2   \t\tmin: 9.2\n",
      "x9\tmax: 3588.0   \t\tmin: 673.0\n"
     ]
    }
   ],
   "source": [
    "min_for_each_column = np.min(X, axis=0)\n",
    "max_for_each_column = np.max(X, axis=0)\n",
    "\n",
    "for i in range(X[0].size):\n",
    "    print(f'x{i+1}\\tmax: {max_for_each_column[i]}   \\t\\tmin: {min_for_each_column[i]}')"
   ]
  },
  {
   "cell_type": "markdown",
   "id": "ccd8e47c",
   "metadata": {},
   "source": [
    "Как видно, разброс данных большой. В таких случаях предлагается использовать Z-нормализацию, также известную как \"Стандартизация\". Этот метод подходит тем, что централизует данные и менее чувствителен к выборсам, в отличие от метода \"Min-Max Scaler\""
   ]
  },
  {
   "cell_type": "code",
   "execution_count": 5,
   "id": "f19019f5",
   "metadata": {},
   "outputs": [],
   "source": [
    "X_default = X\n",
    "X = (X - np.mean(X, axis=0)) / np.std(X, axis=0)"
   ]
  },
  {
   "cell_type": "markdown",
   "id": "564a1c1b",
   "metadata": {},
   "source": [
    "Проверим разброс данных после нормализации"
   ]
  },
  {
   "cell_type": "code",
   "execution_count": 6,
   "id": "243cef3a",
   "metadata": {},
   "outputs": [
    {
     "name": "stdout",
     "output_type": "stream",
     "text": [
      "x1\tmax: 4.0649232076460375   \t\tmin: -0.9312263626328651\n",
      "x2\tmax: 1.6749133436945007   \t\tmin: -2.842611750814593\n",
      "x3\tmax: 2.659816158350041   \t\tmin: -1.9118476800246182\n",
      "x4\tmax: 3.3684450611056977   \t\tmin: -2.590983249082291\n",
      "x5\tmax: 3.5445550649128545   \t\tmin: -2.878735102801754\n",
      "x6\tmax: 5.688722431962988   \t\tmin: -1.2742031489583807\n",
      "x7\tmax: 3.266848667818195   \t\tmin: -2.0170773950525613\n",
      "x8\tmax: 3.520026740730684   \t\tmin: -1.8489912786993128\n",
      "x9\tmax: 2.5276934717121105   \t\tmin: -1.9105420859328077\n"
     ]
    }
   ],
   "source": [
    "min_for_each_column = np.min(X, axis=0)\n",
    "max_for_each_column = np.max(X, axis=0)\n",
    "\n",
    "for i in range(X[0].size):\n",
    "    print(f'x{i+1}\\tmax: {max_for_each_column[i]}   \\t\\tmin: {min_for_each_column[i]}')"
   ]
  },
  {
   "cell_type": "markdown",
   "id": "68fd4064",
   "metadata": {},
   "source": [
    "### Задание 2. Расчет весов линейной регрессии по аналитической формуле "
   ]
  },
  {
   "cell_type": "markdown",
   "id": "d7c42d3b",
   "metadata": {},
   "source": [
    "Добавим единичный столбец в матрицу признаков"
   ]
  },
  {
   "cell_type": "code",
   "execution_count": 7,
   "id": "d4078573",
   "metadata": {},
   "outputs": [],
   "source": [
    "rows, coulmns = X.shape\n",
    "X = np.hstack((np.ones((rows, 1)), X))"
   ]
  },
  {
   "cell_type": "markdown",
   "id": "b50d0bf5",
   "metadata": {},
   "source": [
    "Аналитическая формула:\n",
    "\n",
    "${w} = ({X}^{T}{X})^{-1}{X}^{T}{Y}$"
   ]
  },
  {
   "cell_type": "code",
   "execution_count": 8,
   "id": "3c66096b",
   "metadata": {
    "scrolled": true
   },
   "outputs": [
    {
     "name": "stdout",
     "output_type": "stream",
     "text": [
      "Полученные веса: \n",
      "[[58.23617021]\n",
      " [-2.10483027]\n",
      " [-2.42128122]\n",
      " [ 0.95750726]\n",
      " [-2.14875258]\n",
      " [-0.32268881]\n",
      " [-0.30566366]\n",
      " [-1.15868994]\n",
      " [-0.84045299]\n",
      " [-0.79407424]]\n"
     ]
    }
   ],
   "source": [
    "covariance_matrix = np.matmul(np.transpose(X), X)\n",
    "inverse_covariance_matrix = np.linalg.inv(covariance_matrix)\n",
    "weights = np.matmul(np.matmul(inverse_covariance_matrix, np.transpose(X)), Y)\n",
    "\n",
    "print(f'Полученные веса: \\n{weights}')"
   ]
  },
  {
   "cell_type": "markdown",
   "id": "22cea715",
   "metadata": {},
   "source": [
    "### Задание 3. Построение и интепретация корреляционной матрицы. Определение степени мультиколлинеарности на основе числа обусловленности"
   ]
  },
  {
   "cell_type": "code",
   "execution_count": 9,
   "id": "3a43623b",
   "metadata": {},
   "outputs": [
    {
     "name": "stdout",
     "output_type": "stream",
     "text": [
      "Корреляционная матрица:\n",
      "    0         1         2         3         4         5         6         7  \\\n",
      "0 NaN       NaN       NaN       NaN       NaN       NaN       NaN       NaN   \n",
      "1 NaN  1.000000 -0.493003 -0.116073 -0.577910  0.250840 -0.376163 -0.392244   \n",
      "2 NaN -0.493003  1.000000  0.106909  0.069805 -0.066190  0.238550  0.044261   \n",
      "3 NaN -0.116073  0.106909  1.000000  0.392078 -0.086839  0.336084  0.164214   \n",
      "4 NaN -0.577910  0.069805  0.392078  1.000000  0.124522  0.195631  0.293789   \n",
      "5 NaN  0.250840 -0.066190 -0.086839  0.124522  1.000000 -0.240909 -0.145890   \n",
      "6 NaN -0.376163  0.238550  0.336084  0.195631 -0.240909  1.000000  0.555050   \n",
      "7 NaN -0.392244  0.044261  0.164214  0.293789 -0.145890  0.555050  1.000000   \n",
      "8 NaN  0.646093 -0.211056 -0.258291 -0.548800  0.165603 -0.503291 -0.542994   \n",
      "9 NaN -0.164474  0.046720 -0.312169  0.226796  0.191490 -0.111555  0.260572   \n",
      "\n",
      "          8         9  \n",
      "0       NaN       NaN  \n",
      "1  0.646093 -0.164474  \n",
      "2 -0.211056  0.046720  \n",
      "3 -0.258291 -0.312169  \n",
      "4 -0.548800  0.226796  \n",
      "5  0.165603  0.191490  \n",
      "6 -0.503291 -0.111555  \n",
      "7 -0.542994  0.260572  \n",
      "8  1.000000  0.026612  \n",
      "9  0.026612  1.000000  \n",
      "\n",
      "Число обусловленности: 4.805461631488785\n"
     ]
    }
   ],
   "source": [
    "print(f\"Корреляционная матрица:\\n{pd.DataFrame(X).corr()}\\n\")\n",
    "print(f\"Число обусловленности: {np.linalg.cond(X, p = 2)}\")"
   ]
  },
  {
   "cell_type": "markdown",
   "id": "609c76e2",
   "metadata": {},
   "source": [
    "Число обусловленности отражает, насколько чувствительна функция к изменениям или ошибкам на входе. В нашем случае число меньше 10, что говорит об отсутствии мультиколлинеарности в данных."
   ]
  },
  {
   "cell_type": "code",
   "execution_count": 10,
   "id": "e595754f",
   "metadata": {},
   "outputs": [
    {
     "data": {
      "image/png": "[encoded data removed]",
      "text/plain": [
       "<Figure size 640x480 with 2 Axes>"
      ]
     },
     "metadata": {},
     "output_type": "display_data"
    }
   ],
   "source": [
    "corr_plot = sns.heatmap(pd.DataFrame(X).corr(), cmap=\"coolwarm\", annot=True)"
   ]
  },
  {
   "cell_type": "markdown",
   "id": "a7175b10",
   "metadata": {},
   "source": [
    "### Задание 4. Анализ регрессионных остатков"
   ]
  },
  {
   "cell_type": "code",
   "execution_count": 11,
   "id": "36a3c83d",
   "metadata": {},
   "outputs": [
    {
     "name": "stdout",
     "output_type": "stream",
     "text": [
      "Среднее значение целевого признака: 58.236170212765956\n",
      "Регрессионные остатки:\n",
      "[[-0.96144988]\n",
      " [-0.10408996]\n",
      " [ 6.22054103]\n",
      " [-6.11375592]\n",
      " [-2.57297791]\n",
      " [ 2.16177474]\n",
      " [ 0.24516254]\n",
      " [ 1.74814118]\n",
      " [ 1.09728299]\n",
      " [ 1.59256885]\n",
      " [-0.17323994]\n",
      " [-2.45024519]\n",
      " [-0.45042152]\n",
      " [-0.49187904]\n",
      " [ 0.8944499 ]\n",
      " [ 1.41952872]\n",
      " [ 0.75595762]\n",
      " [ 1.09422598]\n",
      " [-0.92879736]\n",
      " [-0.78676193]\n",
      " [-2.51217192]\n",
      " [-0.37782226]\n",
      " [-0.11757857]\n",
      " [ 0.35657876]\n",
      " [ 2.82229862]\n",
      " [-0.02902093]\n",
      " [ 1.15435909]\n",
      " [-1.71986617]\n",
      " [ 0.16712742]\n",
      " [ 1.2751612 ]\n",
      " [ 0.0917686 ]\n",
      " [-0.15930326]\n",
      " [-2.02611066]\n",
      " [-0.9612173 ]\n",
      " [ 2.31705158]\n",
      " [-1.40218124]\n",
      " [ 0.19436533]\n",
      " [-0.97957897]\n",
      " [-1.09572235]\n",
      " [-0.35676519]\n",
      " [ 1.42469739]\n",
      " [ 1.80810421]\n",
      " [ 0.64695609]\n",
      " [-0.70668967]\n",
      " [-0.28433281]\n",
      " [-2.21949279]\n",
      " [ 0.49337088]]\n",
      "Средняя квадратическая ошибка: 3.2850653276126236\n",
      "Среднеквадратическое отклонение: 1.8124749177885535\n",
      "Коэффициент детерминации: 0.7001679445457348\n"
     ]
    }
   ],
   "source": [
    "Y_predicted = np.matmul(X, weights)\n",
    "MSE = mean_squared_error(Y, Y_predicted)\n",
    "\n",
    "RMSE = np.sqrt(MSE)\n",
    "R2 = r2_score(Y, Y_predicted)\n",
    "\n",
    "print(f'Среднее значение целевого признака: {Y_predicted.mean()}')\n",
    "print(f'Регрессионные остатки:\\n{Y - Y_predicted}')\n",
    "print(f'Средняя квадратическая ошибка: {MSE}')\n",
    "print(f'Среднеквадратическое отклонение: {RMSE}')\n",
    "print(f'Коэффициент детерминации: {R2}')"
   ]
  },
  {
   "cell_type": "markdown",
   "id": "34b85fb7",
   "metadata": {},
   "source": [
    "### Задание 5. Определение весов линейной регрессии градиентным методом. Проанализировать изменение ошибки от итерации к итерации."
   ]
  },
  {
   "cell_type": "code",
   "execution_count": 12,
   "id": "384948af",
   "metadata": {},
   "outputs": [
    {
     "name": "stdout",
     "output_type": "stream",
     "text": [
      "Итерация 1: \tОшибка: 3305.4152047310754\n",
      "Итерация 2: \tОшибка: 2116.3691636098806\n",
      "Итерация 3: \tОшибка: 1356.7156026090056\n",
      "Итерация 4: \tОшибка: 870.6762073215934\n",
      "Итерация 5: \tОшибка: 559.5483026906915\n",
      "Итерация 6: \tОшибка: 360.3273491024967\n",
      "Итерация 7: \tОшибка: 232.7265776603901\n",
      "Итерация 8: \tОшибка: 150.97213076805838\n",
      "Итерация 9: \tОшибка: 98.5707728515132\n",
      "Итерация 10: \tОшибка: 64.96622942800421\n",
      "Итерация 11: \tОшибка: 43.40104313849901\n",
      "Итерация 12: \tОшибка: 29.54887913854076\n",
      "Итерация 13: \tОшибка: 20.639471798318528\n",
      "Итерация 14: \tОшибка: 14.89866918679994\n",
      "Итерация 15: \tОшибка: 11.190060429206483\n",
      "Итерация 16: \tОшибка: 8.785587361519333\n",
      "Итерация 17: \tОшибка: 7.218699624948974\n",
      "Итерация 18: \tОшибка: 6.190339971918246\n",
      "Итерация 19: \tОшибка: 5.508746232305139\n",
      "Итерация 20: \tОшибка: 5.0509016185869715\n",
      "Итерация 21: \tОшибка: 4.737845020306109\n",
      "Итерация 22: \tОшибка: 4.518855850177371\n",
      "Итерация 23: \tОшибка: 4.361321889110818\n",
      "Итерация 24: \tОшибка: 4.244246787678072\n",
      "Итерация 25: \tОшибка: 4.154088880491861\n",
      "Итерация 26: \tОшибка: 4.082093501756566\n",
      "Итерация 27: \tОшибка: 4.022582241030904\n",
      "Итерация 28: \tОшибка: 3.971855466472801\n",
      "Итерация 29: \tОшибка: 3.927487959119671\n",
      "Итерация 30: \tОшибка: 3.8878766037713426\n",
      "Итерация 31: \tОшибка: 3.851949746210251\n",
      "Итерация 32: \tОшибка: 3.8189802806899587\n",
      "Итерация 33: \tОшибка: 3.7884653240683472\n",
      "Итерация 34: \tОшибка: 3.7600486563551043\n",
      "Итерация 35: \tОшибка: 3.7334706465127177\n",
      "Итерация 36: \tОшибка: 3.7085358563774578\n",
      "Итерация 37: \tОшибка: 3.685092025677943\n",
      "Итерация 38: \tОшибка: 3.663016392631989\n",
      "Итерация 39: \tОшибка: 3.6422067493303207\n",
      "Итерация 40: \tОшибка: 3.622575558563914\n",
      "Итерация 41: \tОшибка: 3.6040460544379753\n",
      "Итерация 42: \tОшибка: 3.5865496319500827\n",
      "Итерация 43: \tОшибка: 3.5700240769252356\n",
      "Итерация 44: \tОшибка: 3.5544123461877155\n",
      "Итерация 45: \tОшибка: 3.5396617099681023\n",
      "Итерация 46: \tОшибка: 3.5257231344223525\n",
      "Итерация 47: \tОшибка: 3.5125508246990247\n",
      "Итерация 48: \tОшибка: 3.500101876531325\n",
      "Итерация 49: \tОшибка: 3.488336002189524\n",
      "Итерация 50: \tОшибка: 3.4772153082355564\n",
      "Итерация 51: \tОшибка: 3.4667041100881995\n",
      "Итерация 52: \tОшибка: 3.4567687733546277\n",
      "Итерация 53: \tОшибка: 3.4473775751335185\n",
      "Итерация 54: \tОшибка: 3.4385005806387494\n",
      "Итерация 55: \tОшибка: 3.4301095319141957\n",
      "Итерация 56: \tОшибка: 3.4221777463610663\n",
      "Итерация 57: \tОшибка: 3.414680023437848\n",
      "Итерация 58: \tОшибка: 3.4075925583279085\n",
      "Итерация 59: \tОшибка: 3.400892861667899\n",
      "Итерация 60: \tОшибка: 3.394559684637593\n",
      "Итерация 61: \tОшибка: 3.388572948857991\n",
      "Итерация 62: \tОшибка: 3.3829136806494327\n",
      "Итерация 63: \tОшибка: 3.3775639492776257\n",
      "Итерация 64: \tОшибка: 3.3725068088726036\n",
      "Итерация 65: \tОшибка: 3.3677262437485385\n",
      "Итерация 66: \tОшибка: 3.363207116885426\n",
      "Итерация 67: \tОшибка: 3.3589351213608234\n",
      "Итерация 68: \tОшибка: 3.3548967345403926\n",
      "Итерация 69: \tОшибка: 3.3510791748539894\n",
      "Итерация 70: \tОшибка: 3.347470360998753\n",
      "Итерация 71: \tОшибка: 3.3440588734233714\n",
      "Итерация 72: \tОшибка: 3.3408339179584035\n",
      "Итерация 73: \tОшибка: 3.3377852914676414\n",
      "Итерация 74: \tОшибка: 3.3349033494033247\n",
      "Итерация 75: \tОшибка: 3.3321789751567907\n",
      "Итерация 76: \tОшибка: 3.329603551101869\n",
      "Итерация 77: \tОшибка: 3.3271689312359416\n",
      "Итерация 78: \tОшибка: 3.3248674153284687\n",
      "Итерация 79: \tОшибка: 3.32269172449261\n",
      "Итерация 80: \tОшибка: 3.320634978100797\n",
      "Итерация 81: \tОшибка: 3.3186906719689935\n",
      "Итерация 82: \tОшибка: 3.3168526577396995\n",
      "Итерация 83: \tОшибка: 3.3151151233968474\n",
      "Итерация 84: \tОшибка: 3.3134725748503064\n",
      "Итерация 85: \tОшибка: 3.3119198185306873\n",
      "Итерация 86: \tОшибка: 3.31045194493888\n",
      "Итерация 87: \tОшибка: 3.309064313097452\n",
      "Итерация 88: \tОшибка: 3.3077525358545743\n",
      "Итерация 89: \tОшибка: 3.3065124659933\n",
      "Итерация 90: \tОшибка: 3.3053401831019555\n",
      "Итерация 91: \tОшибка: 3.3042319811639613\n",
      "Итерация 92: \tОшибка: 3.3031843568273094\n",
      "Итерация 93: \tОшибка: 3.3021939983166417\n",
      "Итерация 94: \tОшибка: 3.301257774952438\n",
      "Итерация 95: \tОшибка: 3.3003727272441052\n",
      "Итерация 96: \tОшибка: 3.2995360575255046\n",
      "Итерация 97: \tОшибка: 3.298745121103081\n",
      "Итерация 98: \tОшибка: 3.297997417888613\n",
      "Итерация 99: \tОшибка: 3.297290584489788\n",
      "Итерация 100: \tОшибка: 3.296622386733866\n",
      "Итерация 101: \tОшибка: 3.295990712600359\n",
      "Итерация 102: \tОшибка: 3.2953935655404494\n",
      "Итерация 103: \tОшибка: 3.294829058162085\n",
      "Итерация 104: \tОшибка: 3.294295406260445\n",
      "Итерация 105: \tОшибка: 3.293790923175139\n",
      "Итерация 106: \tОшибка: 3.2933140144560866\n",
      "Итерация 107: \tОшибка: 3.2928631728211313\n",
      "Итерация 108: \tОшибка: 3.292436973389657\n",
      "Итерация 109: \tОшибка: 3.2920340691768266\n",
      "Итерация 110: \tОшибка: 3.2916531868342638\n",
      "Итерация 111: \tОшибка: 3.2912931226238653\n",
      "Итерация 112: \tОшибка: 3.2909527386116046\n",
      "Итерация 113: \tОшибка: 3.290630959069744\n",
      "Итерация 114: \tОшибка: 3.2903267670755967\n",
      "Итерация 115: \tОшибка: 3.2900392012965343\n",
      "Итерация 116: \tОшибка: 3.289767352950622\n",
      "Итерация 117: \tОшибка: 3.289510362933576\n",
      "Итерация 118: \tОшибка: 3.2892674191028126\n",
      "Итерация 119: \tОшибка: 3.289037753709987\n",
      "Итерация 120: \tОшибка: 3.2888206409740186\n",
      "Итерация 121: \tОшибка: 3.288615394786695\n",
      "Итерация 122: \tОшибка: 3.288421366543842\n",
      "Итерация 123: \tОшибка: 3.2882379430950683\n",
      "Итерация 124: \tОшибка: 3.288064544805585\n",
      "Итерация 125: \tОшибка: 3.287900623723953\n",
      "Итерация 126: \tОшибка: 3.2877456618501792\n",
      "Итерация 127: \tОшибка: 3.2875991694983027\n",
      "Итерация 128: \tОшибка: 3.287460683748654\n",
      "Итерация 129: \tОшибка: 3.287329766984668\n",
      "Итерация 130: \tОшибка: 3.2872060055096743\n",
      "Итерация 131: \tОшибка: 3.287089008239393\n",
      "Итерация 132: \tОшибка: 3.2869784054658204\n",
      "Итерация 133: \tОшибка: 3.2868738476887875\n",
      "Итерация 134: \tОшибка: 3.2867750045112896\n",
      "Итерация 135: \tОшибка: 3.2866815635952844\n",
      "Итерация 136: \tОшибка: 3.2865932296745664\n",
      "Итерация 137: \tОшибка: 3.2865097236215917\n",
      "Итерация 138: \tОшибка: 3.2864307815652953\n",
      "Итерация 139: \tОшибка: 3.286356154057192\n",
      "Итерация 140: \tОшибка: 3.286285605283002\n",
      "Итерация 141: \tОшибка: 3.2862189123174033\n",
      "Итерация 142: \tОшибка: 3.286155864419555\n",
      "Итерация 143: \tОшибка: 3.2860962623670247\n",
      "Итерация 144: \tОшибка: 3.2860399178262956\n",
      "Итерация 145: \tОшибка: 3.285986652757491\n",
      "Итерация 146: \tОшибка: 3.2859362988517704\n",
      "Итерация 147: \tОшибка: 3.2858886969994954\n",
      "Итерация 148: \tОшибка: 3.2858436967873157\n",
      "Итерация 149: \tОшибка: 3.285801156022952\n",
      "Итерация 150: \tОшибка: 3.2857609402857286\n",
      "Итерация 151: \tОшибка: 3.285722922501893\n",
      "Итерация 152: \tОшибка: 3.285686982543004\n",
      "Итерация 153: \tОшибка: 3.2856530068463297\n",
      "Итерация 154: \tОшибка: 3.2856208880559743\n",
      "Итерация 155: \tОшибка: 3.285590524683626\n",
      "Итерация 156: \tОшибка: 3.2855618207878794\n",
      "Итерация 157: \tОшибка: 3.2855346856710104\n",
      "Итерация 158: \tОшибка: 3.2855090335924437\n",
      "Итерация 159: \tОшибка: 3.2854847834977323\n",
      "Итерация 160: \tОшибка: 3.2854618587624964\n",
      "Итерация 161: \tОшибка: 3.285440186950215\n",
      "Итерация 162: \tОшибка: 3.2854196995834384\n",
      "Итерация 163: \tОшибка: 3.2854003319272973\n",
      "Итерация 164: \tОшибка: 3.285382022785043\n",
      "Итерация 165: \tОшибка: 3.2853647143045697\n",
      "Итерация 166: \tОшибка: 3.2853483517956925\n",
      "Итерация 167: \tОшибка: 3.2853328835572717\n",
      "Итерация 168: \tОшибка: 3.2853182607138978\n",
      "Итерация 169: \tОшибка: 3.285304437061427\n",
      "Итерация 170: \tОшибка: 3.2852913689209227\n",
      "Итерация 171: \tОшибка: 3.2852790150007642\n",
      "Итерация 172: \tОшибка: 3.28526733626607\n",
      "Итерация 173: \tОшибка: 3.285256295815371\n",
      "Итерация 174: \tОшибка: 3.2852458587640063\n",
      "Итерация 175: \tОшибка: 3.2852359921339866\n",
      "Итерация 176: \tОшибка: 3.28522666474961\n",
      "Итерация 177: \tОшибка: 3.2852178471391102\n",
      "Итерация 178: \tОшибка: 3.2852095114414803\n",
      "Итерация 179: \tОшибка: 3.285201631318395\n",
      "Итерация 180: \tОшибка: 3.285194181871049\n",
      "Итерация 181: \tОшибка: 3.28518713956145\n",
      "Итерация 182: \tОшибка: 3.285180482138045\n",
      "Итерация 183: \tОшибка: 3.285174188565449\n",
      "Итерация 184: \tОшибка: 3.2851682389578714\n",
      "Итерация 185: \tОшибка: 3.28516261451645\n",
      "Итерация 186: \tОшибка: 3.2851572974696452\n",
      "Итерация 187: \tОшибка: 3.2851522710173113\n",
      "Итерация 188: \tОшибка: 3.2851475192774235\n",
      "Итерация 189: \tОшибка: 3.2851430272359763\n",
      "Итерация 190: \tОшибка: 3.2851387806995436\n",
      "Итерация 191: \tОшибка: 3.2851347662504455\n",
      "Итерация 192: \tОшибка: 3.2851309712042975\n",
      "Итерация 193: \tОшибка: 3.2851273835699737\n",
      "Итерация 194: \tОшибка: 3.2851239920117123\n",
      "Итерация 195: \tОшибка: 3.285120785813268\n",
      "Итерация 196: \tОшибка: 3.2851177548441157\n",
      "Итерация 197: \tОшибка: 3.2851148895273794\n",
      "Итерация 198: \tОшибка: 3.2851121808095787\n",
      "Итерация 199: \tОшибка: 3.285109620132053\n",
      "Итерация 200: \tОшибка: 3.285107199403924\n",
      "\t\tRMSE: 1.8124864687505735\n",
      "\t\tКоэффициент детерминации: 0.7001641228545357\n"
     ]
    }
   ],
   "source": [
    "# 1. Инициализация весов\n",
    "weights_i = np.ones((X.shape[1], 1))\n",
    "learning_rate = 0.1\n",
    "\n",
    "for i in range(200):\n",
    "    # 2. Расчет таргета по весам\n",
    "    Y_predicted_i =  np.matmul(X, weights_i)\n",
    "    delta = Y - Y_predicted_i\n",
    "    \n",
    "    # 3. Расчет ошибки\n",
    "    S_i = 0;\n",
    "    for j in range(Y.shape[0]):\n",
    "        S_i +=  (delta[j] ** 2 / Y.shape[0])[0]\n",
    "    print(f\"Итерация {i + 1}: \\tОшибка: {S_i}\")\n",
    "\n",
    "    # 4. Расчет градиента функции потерь\n",
    "    dS_dw = (- 2 / Y.shape[0]) * np.matmul(np.transpose(delta), X)\n",
    "    # 5. Установка новых значений весов\n",
    "    weights_i -= learning_rate * np.transpose(dS_dw)\n",
    "    \n",
    "    if i == 199:\n",
    "        print(f\"\\t\\tRMSE: {S_i**0.5}\")\n",
    "        R2_grad = r2_score(Y, Y_predicted_i)\n",
    "        print(f\"\\t\\tКоэффициент детерминации: {R2_grad}\")"
   ]
  },
  {
   "cell_type": "markdown",
   "id": "2b15393b",
   "metadata": {},
   "source": [
    "### Задание 6. Сравнение результатов по аналитическому и градиентному методу"
   ]
  },
  {
   "cell_type": "markdown",
   "id": "621a3ded",
   "metadata": {},
   "source": [
    "Результаты аналитического метода:\n",
    "\n",
    "    Средняя квадратическая ошибка: 3.2850653276126236\n",
    "    Среднеквадратическое отклонение: 1.8124749177885535\n",
    "    Коэффициент детерминации: 0.7001679445457348\n",
    "\n",
    "Результаты градиентного метода:\n",
    "\n",
    "    Ошибка: 3.285107199403924\n",
    "\tСреднеквадратическое отклонение: 1.8124864687505735\n",
    "\tКоэффициент детерминации: 0.7001641228545357\n",
    "\n",
    "Аналитический метод оказался немного точнее."
   ]
  },
  {
   "cell_type": "markdown",
   "id": "c7d88e03",
   "metadata": {},
   "source": [
    "### Задание 7.  С помощью библиотеки sklearn сделать fit-predict модели линейной регрессии. Сравнить результаты с ранее полученными."
   ]
  },
  {
   "cell_type": "code",
   "execution_count": 16,
   "id": "ea30e374",
   "metadata": {},
   "outputs": [
    {
     "name": "stdout",
     "output_type": "stream",
     "text": [
      "MSE: 3.2850653276126227\n",
      "RMSE: 1.8124749177885533\n",
      "R2: 0.700167944545735\n"
     ]
    }
   ],
   "source": [
    "model = LinearRegression().fit(X_default, Y)\n",
    "Y_predicted_from_sklearn = model.predict(X_default)\n",
    "MSE = mean_squared_error(Y, Y_predicted_from_sklearn)\n",
    "\n",
    "print(f\"MSE: {MSE}\")\n",
    "print(f\"RMSE: {MSE **0.5}\")\n",
    "print(f\"R2: {r2_score(Y, Y_predicted)}\")"
   ]
  },
  {
   "cell_type": "markdown",
   "id": "3ba32d47",
   "metadata": {},
   "source": [
    "Результат практически совпадает с предыдущими"
   ]
  },
  {
   "cell_type": "markdown",
   "id": "5a4b2b19",
   "metadata": {},
   "source": [
    "### Задание 8. С помощью библиотеки statmodels получить «эконометрический» результат обучения модели линейной регрессии. Проинтерпретировать все его составляющие (в т.ч. те, которые изучались только теоретически), сравнить с предыдущими результатами"
   ]
  },
  {
   "cell_type": "code",
   "execution_count": 18,
   "id": "454ef99f",
   "metadata": {},
   "outputs": [
    {
     "name": "stdout",
     "output_type": "stream",
     "text": [
      "MSE: 3.285065327612621\n",
      "RMSE: 1.8124749177885526\n",
      "R2: 0.700167944545735\n",
      "                            OLS Regression Results                            \n",
      "==============================================================================\n",
      "Dep. Variable:                      y   R-squared:                       0.700\n",
      "Model:                            OLS   Adj. R-squared:                  0.627\n",
      "Method:                 Least Squares   F-statistic:                     9.600\n",
      "Date:                Tue, 03 Oct 2023   Prob (F-statistic):           2.27e-07\n",
      "Time:                        21:11:07   Log-Likelihood:                -94.641\n",
      "No. Observations:                  47   AIC:                             209.3\n",
      "Df Residuals:                      37   BIC:                             227.8\n",
      "Df Model:                           9                                         \n",
      "Covariance Type:            nonrobust                                         \n",
      "==============================================================================\n",
      "                 coef    std err          t      P>|t|      [0.025      0.975]\n",
      "------------------------------------------------------------------------------\n",
      "const         58.2362      0.298    195.444      0.000      57.632      58.840\n",
      "x1            -2.1048      0.572     -3.681      0.001      -3.263      -0.946\n",
      "x2            -2.4213      0.395     -6.138      0.000      -3.221      -1.622\n",
      "x3             0.9575      0.407      2.350      0.024       0.132       1.783\n",
      "x4            -2.1488      0.530     -4.056      0.000      -3.222      -1.075\n",
      "x5            -0.3227      0.350     -0.922      0.363      -1.032       0.387\n",
      "x6            -0.3057      0.411     -0.743      0.462      -1.139       0.527\n",
      "x7            -1.1587      0.440     -2.636      0.012      -2.049      -0.268\n",
      "x8            -0.8405      0.484     -1.737      0.091      -1.821       0.140\n",
      "x9            -0.7941      0.392     -2.025      0.050      -1.589       0.001\n",
      "==============================================================================\n",
      "Omnibus:                        9.315   Durbin-Watson:                   2.222\n",
      "Prob(Omnibus):                  0.009   Jarque-Bera (JB):               22.239\n",
      "Skew:                           0.019   Prob(JB):                     1.48e-05\n",
      "Kurtosis:                       6.370   Cond. No.                         4.81\n",
      "==============================================================================\n",
      "\n",
      "Notes:\n",
      "[1] Standard Errors assume that the covariance matrix of the errors is correctly specified.\n"
     ]
    }
   ],
   "source": [
    "results = sm.OLS(Y, X).fit()\n",
    "Y_predicted = results.predict(X)\n",
    "MSE = mean_squared_error(Y, Y_predicted)\n",
    "\n",
    "print(f\"MSE: {MSE}\")\n",
    "print(f\"RMSE: {MSE ** 0.5}\")\n",
    "print(f\"R2: {r2_score(Y, Y_predicted)}\")\n",
    "print(results.summary())"
   ]
  },
  {
   "cell_type": "markdown",
   "id": "59c8aebc",
   "metadata": {},
   "source": [
    "### Задание 9. Сравнить качество получаемых моделей на основе коэффициента детерминации и MSE.\n",
    "### Задание 10. Сделать итоговый вывод касательно причин различия в результатах при выполнении работ разными методами, а также по получаемым моделям в целом. Провести сравнительный анализ."
   ]
  },
  {
   "cell_type": "markdown",
   "id": "c838986c",
   "metadata": {},
   "source": [
    "Для каждой из ранее полученных моделей была посчитаны метрики MSE, RMSE, R2. \n"
   ]
  },
  {
   "cell_type": "markdown",
   "id": "13677dd6",
   "metadata": {},
   "source": []
  },
  {
   "cell_type": "code",
   "execution_count": null,
   "id": "ac2a3fa4",
   "metadata": {},
   "outputs": [],
   "source": []
  }
 ],
 "metadata": {
  "kernelspec": {
   "display_name": "Python 3 (ipykernel)",
   "language": "python",
   "name": "python3"
  },
  "language_info": {
   "codemirror_mode": {
    "name": "ipython",
    "version": 3
   },
   "file_extension": ".py",
   "mimetype": "text/x-python",
   "name": "python",
   "nbconvert_exporter": "python",
   "pygments_lexer": "ipython3",
   "version": "3.11.5"
  }
 },
 "nbformat": 4,
 "nbformat_minor": 5
}
