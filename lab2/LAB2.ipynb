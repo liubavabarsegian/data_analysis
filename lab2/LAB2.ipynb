{
  "cells": [
    {
      "cell_type": "markdown",
      "source": [
        "# Лабораторная работа 2\n",
        "## Вариант 8\n",
        "### Барсегян Люба, ИУ6-55Б"
      ],
      "metadata": {
        "id": "GQx9luXpHgK3"
      }
    },
    {
      "cell_type": "markdown",
      "source": [
        "### Подключение библиотек\n"
      ],
      "metadata": {
        "id": "li_VKB7FHzBt"
      }
    },
    {
      "cell_type": "code",
      "execution_count": 1,
      "metadata": {
        "collapsed": true,
        "colab": {
          "base_uri": "https://localhost:8080/"
        },
        "id": "so19ICJrBFnQ",
        "outputId": "7e4418a9-84c1-4348-a656-8328c480d592"
      },
      "outputs": [
        {
          "output_type": "stream",
          "name": "stdout",
          "text": [
            "Requirement already satisfied: odfpy in /usr/local/lib/python3.10/dist-packages (1.4.1)\n",
            "Requirement already satisfied: defusedxml in /usr/local/lib/python3.10/dist-packages (from odfpy) (0.7.1)\n"
          ]
        }
      ],
      "source": [
        "import pandas as pd\n",
        "import numpy as np\n",
        "from sklearn.model_selection import train_test_split\n",
        "from sklearn.metrics import accuracy_score, classification_report\n",
        "from sklearn.neighbors import KNeighborsClassifier\n",
        "from sklearn.model_selection import GridSearchCV\n",
        "\n",
        "\n",
        "import pandas as pd\n",
        "import numpy as np\n",
        "from sklearn import metrics\n",
        "from sklearn.model_selection import train_test_split\n",
        "from sklearn.metrics import accuracy_score, precision_recall_curve\n",
        "from sklearn.neighbors import KNeighborsClassifier\n",
        "from sklearn.model_selection import GridSearchCV\n",
        "from sklearn.metrics import classification_report\n",
        "from sklearn.linear_model import LogisticRegression\n",
        "from sklearn.tree import DecisionTreeClassifier\n",
        "from sklearn.ensemble import RandomForestClassifier\n",
        "from sklearn.metrics import f1_score\n",
        "import matplotlib.pyplot as plt\n",
        "from sklearn.metrics import precision_recall_curve, auc\n",
        "from sklearn.metrics import precision_score, recall_score\n",
        "from sklearn.metrics import roc_auc_score\n",
        "!pip install odfpy"
      ]
    },
    {
      "cell_type": "markdown",
      "source": [
        "### Задание 1.\n",
        "#### Разделение данных на обучающую (85%) и тестовую часть (15%) случайным образом (можно сделать более корректным методом – разделить в такой пропорции с сохранением распределения таргета в каждой подвыборке).\n"
      ],
      "metadata": {
        "id": "FEZoIL8rH9FP"
      }
    },
    {
      "cell_type": "code",
      "source": [
        "# для инициализации рандомных чисел\n",
        "RANDOM_SEED = 46"
      ],
      "metadata": {
        "id": "zo3xoW-MH_qf"
      },
      "execution_count": 2,
      "outputs": []
    },
    {
      "cell_type": "code",
      "execution_count": 3,
      "outputs": [
        {
          "output_type": "stream",
          "name": "stdout",
          "text": [
            "Количество 0 и 1 в Y_train и Y_test:\n",
            "\n",
            "         Class 0  Class 1\n",
            "Y_train       27       12\n",
            "Y_test         6        2\n"
          ]
        }
      ],
      "source": [
        "df = pd.read_excel('data.xlsx')\n",
        "\n",
        "X = df.iloc[:, 2:10]\n",
        "Y = df['Ybin']\n",
        "\n",
        "X_train, X_test, Y_train, Y_test = train_test_split(X, Y, train_size = 0.85,\n",
        "                                                          random_state = RANDOM_SEED,\n",
        "                                                          stratify = Y)\n",
        "\n",
        "print('Количество 0 и 1 в Y_train и Y_test:\\n')\n",
        "print(pd.DataFrame([np.bincount(Y_train), np.bincount(Y_test)],\n",
        "                   columns=['Class 0', 'Class 1'],\n",
        "                   index=['Y_train', 'Y_test']))"
      ],
      "metadata": {
        "colab": {
          "base_uri": "https://localhost:8080/"
        },
        "id": "kxDkV_5BBFnS",
        "outputId": "9ebe411f-920a-4a38-c29e-27bd4db09a0e"
      }
    },
    {
      "cell_type": "markdown",
      "source": [
        "### Задание 2.\n",
        "#### Нормирование (масштабирование) исходных данных. Обратите внимание, что данные для нормализации (масштабирования) рассчитываются только на основе обучающей выборки.\n"
      ],
      "metadata": {
        "id": "j3V06xzaFeam"
      }
    },
    {
      "cell_type": "code",
      "source": [
        "X_mean = X_train.mean()\n",
        "X_std = X_train.std()\n",
        "\n",
        "#нормализация тренировочных и тестовых данных\n",
        "for col in X_train.columns:\n",
        "    X_train[col] = (X_train[col] - X_mean[col]) / X_std[col]\n",
        "    X_test[col] = (X_test[col] - X_mean[col]) / X_std[col]"
      ],
      "metadata": {
        "id": "84Of6SWrScxl"
      },
      "execution_count": 4,
      "outputs": []
    },
    {
      "cell_type": "markdown",
      "source": [
        "### Задание 3.\n",
        "#### С помощью библиотеки sklearn сделать fit-predict модели kNN. Перебрать по сетке параметр числа соседей с целью определения наилучшего на тестовой выборке.\n"
      ],
      "metadata": {
        "id": "yLf4FdpmLFjk"
      }
    },
    {
      "cell_type": "code",
      "execution_count": 5,
      "outputs": [
        {
          "output_type": "stream",
          "name": "stdout",
          "text": [
            "Fitting 5 folds for each of 20 candidates, totalling 100 fits\n",
            "[CV] END ......................................n_neighbors=1; total time=   0.0s\n",
            "[CV] END ......................................n_neighbors=1; total time=   0.0s\n",
            "[CV] END ......................................n_neighbors=1; total time=   0.0s\n",
            "[CV] END ......................................n_neighbors=1; total time=   0.0s\n",
            "[CV] END ......................................n_neighbors=1; total time=   0.0s\n",
            "[CV] END ......................................n_neighbors=2; total time=   0.0s\n",
            "[CV] END ......................................n_neighbors=2; total time=   0.0s\n",
            "[CV] END ......................................n_neighbors=2; total time=   0.0s\n",
            "[CV] END ......................................n_neighbors=2; total time=   0.0s\n",
            "[CV] END ......................................n_neighbors=2; total time=   0.0s\n",
            "[CV] END ......................................n_neighbors=3; total time=   0.0s\n",
            "[CV] END ......................................n_neighbors=3; total time=   0.1s\n",
            "[CV] END ......................................n_neighbors=3; total time=   0.0s\n",
            "[CV] END ......................................n_neighbors=3; total time=   0.0s\n",
            "[CV] END ......................................n_neighbors=3; total time=   0.0s\n",
            "[CV] END ......................................n_neighbors=4; total time=   0.0s\n",
            "[CV] END ......................................n_neighbors=4; total time=   0.0s\n",
            "[CV] END ......................................n_neighbors=4; total time=   0.0s\n",
            "[CV] END ......................................n_neighbors=4; total time=   0.0s\n",
            "[CV] END ......................................n_neighbors=4; total time=   0.0s\n",
            "[CV] END ......................................n_neighbors=5; total time=   0.0s\n",
            "[CV] END ......................................n_neighbors=5; total time=   0.0s\n",
            "[CV] END ......................................n_neighbors=5; total time=   0.0s\n",
            "[CV] END ......................................n_neighbors=5; total time=   0.0s\n",
            "[CV] END ......................................n_neighbors=5; total time=   0.0s\n",
            "[CV] END ......................................n_neighbors=6; total time=   0.0s\n",
            "[CV] END ......................................n_neighbors=6; total time=   0.0s\n",
            "[CV] END ......................................n_neighbors=6; total time=   0.0s\n",
            "[CV] END ......................................n_neighbors=6; total time=   0.0s\n",
            "[CV] END ......................................n_neighbors=6; total time=   0.0s\n",
            "[CV] END ......................................n_neighbors=7; total time=   0.0s\n",
            "[CV] END ......................................n_neighbors=7; total time=   0.0s\n",
            "[CV] END ......................................n_neighbors=7; total time=   0.0s\n",
            "[CV] END ......................................n_neighbors=7; total time=   0.0s\n",
            "[CV] END ......................................n_neighbors=7; total time=   0.0s\n",
            "[CV] END ......................................n_neighbors=8; total time=   0.0s\n",
            "[CV] END ......................................n_neighbors=8; total time=   0.0s\n",
            "[CV] END ......................................n_neighbors=8; total time=   0.0s\n",
            "[CV] END ......................................n_neighbors=8; total time=   0.0s\n",
            "[CV] END ......................................n_neighbors=8; total time=   0.0s\n",
            "[CV] END ......................................n_neighbors=9; total time=   0.0s\n",
            "[CV] END ......................................n_neighbors=9; total time=   0.0s\n",
            "[CV] END ......................................n_neighbors=9; total time=   0.0s\n",
            "[CV] END ......................................n_neighbors=9; total time=   0.0s\n",
            "[CV] END ......................................n_neighbors=9; total time=   0.0s\n",
            "[CV] END .....................................n_neighbors=10; total time=   0.0s\n",
            "[CV] END .....................................n_neighbors=10; total time=   0.0s\n",
            "[CV] END .....................................n_neighbors=10; total time=   0.0s\n",
            "[CV] END .....................................n_neighbors=10; total time=   0.0s\n",
            "[CV] END .....................................n_neighbors=10; total time=   0.0s\n",
            "[CV] END .....................................n_neighbors=11; total time=   0.0s\n",
            "[CV] END .....................................n_neighbors=11; total time=   0.0s\n",
            "[CV] END .....................................n_neighbors=11; total time=   0.0s\n",
            "[CV] END .....................................n_neighbors=11; total time=   0.0s\n",
            "[CV] END .....................................n_neighbors=11; total time=   0.0s\n",
            "[CV] END .....................................n_neighbors=12; total time=   0.0s\n",
            "[CV] END .....................................n_neighbors=12; total time=   0.0s\n",
            "[CV] END .....................................n_neighbors=12; total time=   0.0s\n",
            "[CV] END .....................................n_neighbors=12; total time=   0.0s\n",
            "[CV] END .....................................n_neighbors=12; total time=   0.0s\n",
            "[CV] END .....................................n_neighbors=13; total time=   0.0s\n",
            "[CV] END .....................................n_neighbors=13; total time=   0.0s\n",
            "[CV] END .....................................n_neighbors=13; total time=   0.0s\n",
            "[CV] END .....................................n_neighbors=13; total time=   0.0s\n",
            "[CV] END .....................................n_neighbors=13; total time=   0.0s\n",
            "[CV] END .....................................n_neighbors=14; total time=   0.0s\n",
            "[CV] END .....................................n_neighbors=14; total time=   0.0s\n",
            "[CV] END .....................................n_neighbors=14; total time=   0.0s\n",
            "[CV] END .....................................n_neighbors=14; total time=   0.0s\n",
            "[CV] END .....................................n_neighbors=14; total time=   0.0s\n",
            "[CV] END .....................................n_neighbors=15; total time=   0.1s\n",
            "[CV] END .....................................n_neighbors=15; total time=   0.0s\n",
            "[CV] END .....................................n_neighbors=15; total time=   0.0s\n",
            "[CV] END .....................................n_neighbors=15; total time=   0.0s\n",
            "[CV] END .....................................n_neighbors=15; total time=   0.0s\n",
            "[CV] END .....................................n_neighbors=16; total time=   0.0s\n",
            "[CV] END .....................................n_neighbors=16; total time=   0.0s\n",
            "[CV] END .....................................n_neighbors=16; total time=   0.0s\n",
            "[CV] END .....................................n_neighbors=16; total time=   0.0s\n",
            "[CV] END .....................................n_neighbors=16; total time=   0.0s\n",
            "[CV] END .....................................n_neighbors=17; total time=   0.0s\n",
            "[CV] END .....................................n_neighbors=17; total time=   0.0s\n",
            "[CV] END .....................................n_neighbors=17; total time=   0.0s\n",
            "[CV] END .....................................n_neighbors=17; total time=   0.1s\n",
            "[CV] END .....................................n_neighbors=17; total time=   0.1s\n",
            "[CV] END .....................................n_neighbors=18; total time=   0.0s\n",
            "[CV] END .....................................n_neighbors=18; total time=   0.1s\n",
            "[CV] END .....................................n_neighbors=18; total time=   0.1s\n",
            "[CV] END .....................................n_neighbors=18; total time=   0.1s\n",
            "[CV] END .....................................n_neighbors=18; total time=   0.1s\n",
            "[CV] END .....................................n_neighbors=19; total time=   0.0s\n",
            "[CV] END .....................................n_neighbors=19; total time=   0.0s\n",
            "[CV] END .....................................n_neighbors=19; total time=   0.1s\n",
            "[CV] END .....................................n_neighbors=19; total time=   0.1s\n",
            "[CV] END .....................................n_neighbors=19; total time=   0.0s\n",
            "[CV] END .....................................n_neighbors=20; total time=   0.1s\n",
            "[CV] END .....................................n_neighbors=20; total time=   0.1s\n",
            "[CV] END .....................................n_neighbors=20; total time=   0.1s\n",
            "[CV] END .....................................n_neighbors=20; total time=   0.1s\n",
            "[CV] END .....................................n_neighbors=20; total time=   0.1s\n"
          ]
        }
      ],
      "source": [
        "# модель\n",
        "knn = KNeighborsClassifier()\n",
        "# определение сетки параметров для перебора\n",
        "grid_params = { 'n_neighbors': list(range(1, 21)) }\n",
        "# создание объекта GridSearchCV\n",
        "grid = GridSearchCV(knn, grid_params, cv = 5,\n",
        "                    scoring = 'accuracy', verbose = 2)\n",
        "\n",
        "# обучение модели с перебором параметров\n",
        "knn_model = grid.fit(X_train, Y_train)"
      ],
      "metadata": {
        "colab": {
          "base_uri": "https://localhost:8080/"
        },
        "id": "fDuoPnCkBFnU",
        "outputId": "f857ef93-acc4-44c7-dd59-1858414ef096"
      }
    },
    {
      "cell_type": "code",
      "source": [
        "# Вывод наилучших параметров и оценки\n",
        "print(\"Наилучший параметр (число соседей):\", knn_model.best_params_)\n",
        "print(\"Лучшая оценка (точность (без тестовых данных)):\\\n",
        " {:.2f}%\".format(knn_model.best_score_ * 100))\n",
        "\n",
        "# Тестирование модели с наилучшими параметрами\n",
        "best_knn = knn_model.best_estimator_\n",
        "Y_predicted = best_knn.predict(X_test)\n",
        "\n",
        "print(classification_report(Y_test, Y_predicted))"
      ],
      "metadata": {
        "colab": {
          "base_uri": "https://localhost:8080/"
        },
        "id": "bf9uMdfmaLE-",
        "outputId": "c6088863-dd2e-46bd-da5f-7835b2a8c730"
      },
      "execution_count": 6,
      "outputs": [
        {
          "output_type": "stream",
          "name": "stdout",
          "text": [
            "Наилучший параметр (число соседей): {'n_neighbors': 7}\n",
            "Лучшая оценка (точность (без тестовых данных)): 77.50%\n",
            "              precision    recall  f1-score   support\n",
            "\n",
            "           0       0.83      0.83      0.83         6\n",
            "           1       0.50      0.50      0.50         2\n",
            "\n",
            "    accuracy                           0.75         8\n",
            "   macro avg       0.67      0.67      0.67         8\n",
            "weighted avg       0.75      0.75      0.75         8\n",
            "\n"
          ]
        }
      ]
    },
    {
      "cell_type": "markdown",
      "source": [
        "### Задание 4.\n",
        "#### С помощью библиотеки sklearn сделать fit-predict модели логистической регрессии. Перебрать по сетке параметр регуляризации с целью определения наилучшего на тестовой выборке.\n"
      ],
      "metadata": {
        "id": "A57-2PAmriuH"
      }
    },
    {
      "cell_type": "code",
      "execution_count": 7,
      "outputs": [
        {
          "output_type": "stream",
          "name": "stdout",
          "text": [
            "Fitting 5 folds for each of 2 candidates, totalling 10 fits\n",
            "[CV] END .......................penalty=l2, solver=liblinear; total time=   0.0s\n",
            "[CV] END .......................penalty=l2, solver=liblinear; total time=   0.0s\n",
            "[CV] END .......................penalty=l2, solver=liblinear; total time=   0.0s\n",
            "[CV] END .......................penalty=l2, solver=liblinear; total time=   0.0s\n",
            "[CV] END .......................penalty=l2, solver=liblinear; total time=   0.0s\n",
            "[CV] END .......................penalty=l1, solver=liblinear; total time=   0.0s\n",
            "[CV] END .......................penalty=l1, solver=liblinear; total time=   0.0s\n",
            "[CV] END .......................penalty=l1, solver=liblinear; total time=   0.0s\n",
            "[CV] END .......................penalty=l1, solver=liblinear; total time=   0.0s\n",
            "[CV] END .......................penalty=l1, solver=liblinear; total time=   0.0s\n"
          ]
        }
      ],
      "source": [
        "# метод\n",
        "logistic_regression = LogisticRegression()\n",
        "# параметры лог. регрессии\n",
        "grid_params={'penalty': ['l2', 'l1'], 'solver': ['liblinear']}\n",
        "# создание объекта GridSearchCV\n",
        "grid = GridSearchCV(logistic_regression, grid_params, cv = 5,\n",
        "                    scoring = 'accuracy', verbose = 2)\n",
        "\n",
        "# обучение модели с перебором параметров\n",
        "logistic_model = grid.fit(X_train, Y_train)"
      ],
      "metadata": {
        "id": "YFGaz2luBFnV",
        "colab": {
          "base_uri": "https://localhost:8080/"
        },
        "outputId": "2b754aba-072e-4ef6-c335-0ad9378d17a9"
      }
    },
    {
      "cell_type": "code",
      "source": [
        "# Вывод наилучших параметров и оценки\n",
        "print(\"Наилучший параметр:\", logistic_model.best_params_)\n",
        "print(\"Лучшая оценка (точность (без тестовых данных)):\\\n",
        " {:.2f}%\".format(logistic_model.best_score_ * 100))\n",
        "\n",
        "# Тестирование модели с наилучшими параметрами\n",
        "best_logistic = logistic_model.best_estimator_\n",
        "Y_predicted = logistic_model.predict(X_test)\n",
        "\n",
        "print(classification_report(Y_test, Y_predicted))"
      ],
      "metadata": {
        "colab": {
          "base_uri": "https://localhost:8080/"
        },
        "id": "kRCah3mat9bb",
        "outputId": "53db5a27-804d-444d-d5b7-440ecf1005ea"
      },
      "execution_count": 8,
      "outputs": [
        {
          "output_type": "stream",
          "name": "stdout",
          "text": [
            "Наилучший параметр: {'penalty': 'l2', 'solver': 'liblinear'}\n",
            "Лучшая оценка (точность (без тестовых данных)): 72.14%\n",
            "              precision    recall  f1-score   support\n",
            "\n",
            "           0       0.67      0.33      0.44         6\n",
            "           1       0.20      0.50      0.29         2\n",
            "\n",
            "    accuracy                           0.38         8\n",
            "   macro avg       0.43      0.42      0.37         8\n",
            "weighted avg       0.55      0.38      0.40         8\n",
            "\n"
          ]
        }
      ]
    },
    {
      "cell_type": "markdown",
      "source": [
        "#### попытка улучшить модель логистической регрессии"
      ],
      "metadata": {
        "id": "zNDwo8KrTTmg"
      }
    },
    {
      "cell_type": "code",
      "source": [
        "RANDOM_SEED2 = 51\n",
        "\n",
        "df2 = pd.read_excel('data.xlsx')\n",
        "\n",
        "X2 = df2.iloc[:, 2:10]\n",
        "Y2 = df2['Ybin']\n",
        "\n",
        "X2_train, X2_test, Y2_train, Y2_test = train_test_split(X2, Y2, train_size = 0.85,\n",
        "                                                          random_state = RANDOM_SEED2,\n",
        "                                                          stratify = Y2)\n",
        "X2_mean = X2_train.mean()\n",
        "X2_std = X2_train.std()\n",
        "\n",
        "#нормализация тренировочных и тестовых данных\n",
        "for col in X2_train.columns:\n",
        "    X2_train[col] = (X2_train[col] - X2_mean[col]) / X2_std[col]\n",
        "    X2_test[col] = (X2_test[col] - X2_mean[col]) / X2_std[col]\n",
        "\n",
        "# метод\n",
        "logistic_regression = LogisticRegression()\n",
        "# параметры лог. регрессии\n",
        "grid_params={'penalty': ['l2', 'l1'], 'solver': ['liblinear']}\n",
        "# создание объекта GridSearchCV\n",
        "grid = GridSearchCV(logistic_regression, grid_params, cv = 5,\n",
        "                    scoring = 'accuracy', verbose = 0)\n",
        "\n",
        "# обучение модели с перебором параметров\n",
        "logistic_model2 = grid.fit(X2_train, Y2_train)\n",
        "\n",
        "# Вывод наилучших параметров и оценки\n",
        "print(\"Наилучший параметр:\", logistic_model2.best_params_)\n",
        "print(\"Лучшая оценка (точность (без тестовых данных)):\\\n",
        " {:.2f}%\".format(logistic_model2.best_score_ * 100))\n",
        "\n",
        "# Тестирование модели с наилучшими параметрами\n",
        "best_logistic = logistic_model2.best_estimator_\n",
        "Y2_predicted = logistic_model2.predict(X2_test)\n",
        "\n",
        "print(classification_report(Y2_test, Y2_predicted))"
      ],
      "metadata": {
        "colab": {
          "base_uri": "https://localhost:8080/"
        },
        "id": "v_Ip8M0_TYVh",
        "outputId": "34b1b897-c2e2-49da-db76-a52dc8eb1663"
      },
      "execution_count": 9,
      "outputs": [
        {
          "output_type": "stream",
          "name": "stdout",
          "text": [
            "Наилучший параметр: {'penalty': 'l1', 'solver': 'liblinear'}\n",
            "Лучшая оценка (точность (без тестовых данных)): 72.14%\n",
            "              precision    recall  f1-score   support\n",
            "\n",
            "           0       0.86      1.00      0.92         6\n",
            "           1       1.00      0.50      0.67         2\n",
            "\n",
            "    accuracy                           0.88         8\n",
            "   macro avg       0.93      0.75      0.79         8\n",
            "weighted avg       0.89      0.88      0.86         8\n",
            "\n"
          ]
        }
      ]
    },
    {
      "cell_type": "code",
      "source": [],
      "metadata": {
        "id": "GXWEpT2LTYhP"
      },
      "execution_count": 9,
      "outputs": []
    },
    {
      "cell_type": "markdown",
      "source": [
        "### Задание 5.\n",
        "#### С помощью библиотеки sklearn сделать fit-predict модели дерева решений. Перебрать по сетке параметр глубины дерева с целью определения наилучшего на тестовой выборке.\n",
        "\n",
        "#### Дополнительно (желательно, но не обязательно): с помощьюбиблиотеки sklearn сделать fit-predict модели случайного леса.\n",
        "Перебрать по сетке параметр глубины дерева с целью определения\n",
        "наилучшего на тестовой выборке.\n"
      ],
      "metadata": {
        "id": "_OF1HOA50cwS"
      }
    },
    {
      "cell_type": "code",
      "source": [
        "# метод\n",
        "decision_tree = DecisionTreeClassifier(splitter = 'best')\n",
        "# параметры\n",
        "grid_params={'max_depth': range (1, 100)}\n",
        "# создание объекта GridSearchCV\n",
        "grid = GridSearchCV(decision_tree, grid_params, cv = 5,\n",
        "                    scoring = 'accuracy', verbose = 2)\n",
        "\n",
        "# обучение модели с перебором параметров\n",
        "decision_tree_model = grid.fit(X_train, Y_train)"
      ],
      "metadata": {
        "colab": {
          "base_uri": "https://localhost:8080/"
        },
        "id": "HjQqPsR2xwlD",
        "outputId": "d8756e52-a385-44ee-b037-75fc7472cd42"
      },
      "execution_count": 10,
      "outputs": [
        {
          "output_type": "stream",
          "name": "stdout",
          "text": [
            "Fitting 5 folds for each of 99 candidates, totalling 495 fits\n",
            "[CV] END ........................................max_depth=1; total time=   0.0s\n",
            "[CV] END ........................................max_depth=1; total time=   0.0s\n",
            "[CV] END ........................................max_depth=1; total time=   0.0s\n",
            "[CV] END ........................................max_depth=1; total time=   0.0s\n",
            "[CV] END ........................................max_depth=1; total time=   0.0s\n",
            "[CV] END ........................................max_depth=2; total time=   0.0s\n",
            "[CV] END ........................................max_depth=2; total time=   0.0s\n",
            "[CV] END ........................................max_depth=2; total time=   0.0s\n",
            "[CV] END ........................................max_depth=2; total time=   0.0s\n",
            "[CV] END ........................................max_depth=2; total time=   0.0s\n",
            "[CV] END ........................................max_depth=3; total time=   0.0s\n",
            "[CV] END ........................................max_depth=3; total time=   0.0s\n",
            "[CV] END ........................................max_depth=3; total time=   0.0s\n",
            "[CV] END ........................................max_depth=3; total time=   0.0s\n",
            "[CV] END ........................................max_depth=3; total time=   0.0s\n",
            "[CV] END ........................................max_depth=4; total time=   0.0s\n",
            "[CV] END ........................................max_depth=4; total time=   0.0s\n",
            "[CV] END ........................................max_depth=4; total time=   0.0s\n",
            "[CV] END ........................................max_depth=4; total time=   0.0s\n",
            "[CV] END ........................................max_depth=4; total time=   0.0s\n",
            "[CV] END ........................................max_depth=5; total time=   0.0s\n",
            "[CV] END ........................................max_depth=5; total time=   0.0s\n",
            "[CV] END ........................................max_depth=5; total time=   0.0s\n",
            "[CV] END ........................................max_depth=5; total time=   0.0s\n",
            "[CV] END ........................................max_depth=5; total time=   0.0s\n",
            "[CV] END ........................................max_depth=6; total time=   0.0s\n",
            "[CV] END ........................................max_depth=6; total time=   0.0s\n",
            "[CV] END ........................................max_depth=6; total time=   0.0s\n",
            "[CV] END ........................................max_depth=6; total time=   0.0s\n",
            "[CV] END ........................................max_depth=6; total time=   0.0s\n",
            "[CV] END ........................................max_depth=7; total time=   0.0s\n",
            "[CV] END ........................................max_depth=7; total time=   0.0s\n",
            "[CV] END ........................................max_depth=7; total time=   0.0s\n",
            "[CV] END ........................................max_depth=7; total time=   0.0s\n",
            "[CV] END ........................................max_depth=7; total time=   0.0s\n",
            "[CV] END ........................................max_depth=8; total time=   0.0s\n",
            "[CV] END ........................................max_depth=8; total time=   0.0s\n",
            "[CV] END ........................................max_depth=8; total time=   0.0s\n",
            "[CV] END ........................................max_depth=8; total time=   0.0s\n",
            "[CV] END ........................................max_depth=8; total time=   0.0s\n",
            "[CV] END ........................................max_depth=9; total time=   0.0s\n",
            "[CV] END ........................................max_depth=9; total time=   0.0s\n",
            "[CV] END ........................................max_depth=9; total time=   0.0s\n",
            "[CV] END ........................................max_depth=9; total time=   0.0s\n",
            "[CV] END ........................................max_depth=9; total time=   0.0s\n",
            "[CV] END .......................................max_depth=10; total time=   0.0s\n",
            "[CV] END .......................................max_depth=10; total time=   0.0s\n",
            "[CV] END .......................................max_depth=10; total time=   0.0s\n",
            "[CV] END .......................................max_depth=10; total time=   0.0s\n",
            "[CV] END .......................................max_depth=10; total time=   0.0s\n",
            "[CV] END .......................................max_depth=11; total time=   0.0s\n",
            "[CV] END .......................................max_depth=11; total time=   0.0s\n",
            "[CV] END .......................................max_depth=11; total time=   0.0s\n",
            "[CV] END .......................................max_depth=11; total time=   0.0s\n",
            "[CV] END .......................................max_depth=11; total time=   0.0s\n",
            "[CV] END .......................................max_depth=12; total time=   0.0s\n",
            "[CV] END .......................................max_depth=12; total time=   0.0s\n",
            "[CV] END .......................................max_depth=12; total time=   0.0s\n",
            "[CV] END .......................................max_depth=12; total time=   0.0s\n",
            "[CV] END .......................................max_depth=12; total time=   0.0s\n",
            "[CV] END .......................................max_depth=13; total time=   0.0s\n",
            "[CV] END .......................................max_depth=13; total time=   0.0s\n",
            "[CV] END .......................................max_depth=13; total time=   0.0s\n",
            "[CV] END .......................................max_depth=13; total time=   0.0s\n",
            "[CV] END .......................................max_depth=13; total time=   0.0s\n",
            "[CV] END .......................................max_depth=14; total time=   0.0s\n",
            "[CV] END .......................................max_depth=14; total time=   0.0s\n",
            "[CV] END .......................................max_depth=14; total time=   0.0s\n",
            "[CV] END .......................................max_depth=14; total time=   0.0s\n",
            "[CV] END .......................................max_depth=14; total time=   0.0s\n",
            "[CV] END .......................................max_depth=15; total time=   0.0s\n",
            "[CV] END .......................................max_depth=15; total time=   0.0s\n",
            "[CV] END .......................................max_depth=15; total time=   0.0s\n",
            "[CV] END .......................................max_depth=15; total time=   0.0s\n",
            "[CV] END .......................................max_depth=15; total time=   0.0s\n",
            "[CV] END .......................................max_depth=16; total time=   0.0s\n",
            "[CV] END .......................................max_depth=16; total time=   0.0s\n",
            "[CV] END .......................................max_depth=16; total time=   0.0s\n",
            "[CV] END .......................................max_depth=16; total time=   0.0s\n",
            "[CV] END .......................................max_depth=16; total time=   0.0s\n",
            "[CV] END .......................................max_depth=17; total time=   0.0s\n",
            "[CV] END .......................................max_depth=17; total time=   0.0s\n",
            "[CV] END .......................................max_depth=17; total time=   0.0s\n",
            "[CV] END .......................................max_depth=17; total time=   0.0s\n",
            "[CV] END .......................................max_depth=17; total time=   0.0s\n",
            "[CV] END .......................................max_depth=18; total time=   0.0s\n",
            "[CV] END .......................................max_depth=18; total time=   0.0s\n",
            "[CV] END .......................................max_depth=18; total time=   0.0s\n",
            "[CV] END .......................................max_depth=18; total time=   0.0s\n",
            "[CV] END .......................................max_depth=18; total time=   0.0s\n",
            "[CV] END .......................................max_depth=19; total time=   0.0s\n",
            "[CV] END .......................................max_depth=19; total time=   0.0s\n",
            "[CV] END .......................................max_depth=19; total time=   0.0s\n",
            "[CV] END .......................................max_depth=19; total time=   0.0s\n",
            "[CV] END .......................................max_depth=19; total time=   0.0s\n",
            "[CV] END .......................................max_depth=20; total time=   0.0s\n",
            "[CV] END .......................................max_depth=20; total time=   0.0s\n",
            "[CV] END .......................................max_depth=20; total time=   0.0s\n",
            "[CV] END .......................................max_depth=20; total time=   0.0s\n",
            "[CV] END .......................................max_depth=20; total time=   0.0s\n",
            "[CV] END .......................................max_depth=21; total time=   0.0s\n",
            "[CV] END .......................................max_depth=21; total time=   0.0s\n",
            "[CV] END .......................................max_depth=21; total time=   0.0s\n",
            "[CV] END .......................................max_depth=21; total time=   0.0s\n",
            "[CV] END .......................................max_depth=21; total time=   0.0s\n",
            "[CV] END .......................................max_depth=22; total time=   0.0s\n",
            "[CV] END .......................................max_depth=22; total time=   0.0s\n",
            "[CV] END .......................................max_depth=22; total time=   0.0s\n",
            "[CV] END .......................................max_depth=22; total time=   0.0s\n",
            "[CV] END .......................................max_depth=22; total time=   0.0s\n",
            "[CV] END .......................................max_depth=23; total time=   0.0s\n",
            "[CV] END .......................................max_depth=23; total time=   0.0s\n",
            "[CV] END .......................................max_depth=23; total time=   0.0s\n",
            "[CV] END .......................................max_depth=23; total time=   0.0s\n",
            "[CV] END .......................................max_depth=23; total time=   0.0s\n",
            "[CV] END .......................................max_depth=24; total time=   0.0s\n",
            "[CV] END .......................................max_depth=24; total time=   0.0s\n",
            "[CV] END .......................................max_depth=24; total time=   0.0s\n",
            "[CV] END .......................................max_depth=24; total time=   0.0s\n",
            "[CV] END .......................................max_depth=24; total time=   0.0s\n",
            "[CV] END .......................................max_depth=25; total time=   0.0s\n",
            "[CV] END .......................................max_depth=25; total time=   0.0s\n",
            "[CV] END .......................................max_depth=25; total time=   0.0s\n",
            "[CV] END .......................................max_depth=25; total time=   0.0s\n",
            "[CV] END .......................................max_depth=25; total time=   0.0s\n",
            "[CV] END .......................................max_depth=26; total time=   0.0s\n",
            "[CV] END .......................................max_depth=26; total time=   0.0s\n",
            "[CV] END .......................................max_depth=26; total time=   0.0s\n",
            "[CV] END .......................................max_depth=26; total time=   0.0s\n",
            "[CV] END .......................................max_depth=26; total time=   0.0s\n",
            "[CV] END .......................................max_depth=27; total time=   0.0s\n",
            "[CV] END .......................................max_depth=27; total time=   0.0s\n",
            "[CV] END .......................................max_depth=27; total time=   0.0s\n",
            "[CV] END .......................................max_depth=27; total time=   0.0s\n",
            "[CV] END .......................................max_depth=27; total time=   0.0s\n",
            "[CV] END .......................................max_depth=28; total time=   0.0s\n",
            "[CV] END .......................................max_depth=28; total time=   0.0s\n",
            "[CV] END .......................................max_depth=28; total time=   0.0s\n",
            "[CV] END .......................................max_depth=28; total time=   0.0s\n",
            "[CV] END .......................................max_depth=28; total time=   0.0s\n",
            "[CV] END .......................................max_depth=29; total time=   0.0s\n",
            "[CV] END .......................................max_depth=29; total time=   0.0s\n",
            "[CV] END .......................................max_depth=29; total time=   0.0s\n",
            "[CV] END .......................................max_depth=29; total time=   0.0s\n",
            "[CV] END .......................................max_depth=29; total time=   0.0s\n",
            "[CV] END .......................................max_depth=30; total time=   0.0s\n",
            "[CV] END .......................................max_depth=30; total time=   0.0s\n",
            "[CV] END .......................................max_depth=30; total time=   0.0s\n",
            "[CV] END .......................................max_depth=30; total time=   0.0s\n",
            "[CV] END .......................................max_depth=30; total time=   0.0s\n",
            "[CV] END .......................................max_depth=31; total time=   0.0s\n",
            "[CV] END .......................................max_depth=31; total time=   0.0s\n",
            "[CV] END .......................................max_depth=31; total time=   0.0s\n",
            "[CV] END .......................................max_depth=31; total time=   0.0s\n",
            "[CV] END .......................................max_depth=31; total time=   0.0s\n",
            "[CV] END .......................................max_depth=32; total time=   0.0s\n",
            "[CV] END .......................................max_depth=32; total time=   0.0s\n",
            "[CV] END .......................................max_depth=32; total time=   0.0s\n",
            "[CV] END .......................................max_depth=32; total time=   0.0s\n",
            "[CV] END .......................................max_depth=32; total time=   0.0s\n",
            "[CV] END .......................................max_depth=33; total time=   0.0s\n",
            "[CV] END .......................................max_depth=33; total time=   0.0s\n",
            "[CV] END .......................................max_depth=33; total time=   0.0s\n",
            "[CV] END .......................................max_depth=33; total time=   0.0s\n",
            "[CV] END .......................................max_depth=33; total time=   0.0s\n",
            "[CV] END .......................................max_depth=34; total time=   0.0s\n",
            "[CV] END .......................................max_depth=34; total time=   0.0s\n",
            "[CV] END .......................................max_depth=34; total time=   0.0s\n",
            "[CV] END .......................................max_depth=34; total time=   0.0s\n",
            "[CV] END .......................................max_depth=34; total time=   0.0s\n",
            "[CV] END .......................................max_depth=35; total time=   0.0s\n",
            "[CV] END .......................................max_depth=35; total time=   0.0s\n",
            "[CV] END .......................................max_depth=35; total time=   0.0s\n",
            "[CV] END .......................................max_depth=35; total time=   0.0s\n",
            "[CV] END .......................................max_depth=35; total time=   0.0s\n",
            "[CV] END .......................................max_depth=36; total time=   0.0s\n",
            "[CV] END .......................................max_depth=36; total time=   0.0s\n",
            "[CV] END .......................................max_depth=36; total time=   0.0s\n",
            "[CV] END .......................................max_depth=36; total time=   0.0s\n",
            "[CV] END .......................................max_depth=36; total time=   0.0s\n",
            "[CV] END .......................................max_depth=37; total time=   0.0s\n",
            "[CV] END .......................................max_depth=37; total time=   0.0s\n",
            "[CV] END .......................................max_depth=37; total time=   0.0s\n",
            "[CV] END .......................................max_depth=37; total time=   0.0s\n",
            "[CV] END .......................................max_depth=37; total time=   0.0s\n",
            "[CV] END .......................................max_depth=38; total time=   0.0s\n",
            "[CV] END .......................................max_depth=38; total time=   0.0s\n",
            "[CV] END .......................................max_depth=38; total time=   0.0s\n",
            "[CV] END .......................................max_depth=38; total time=   0.0s\n",
            "[CV] END .......................................max_depth=38; total time=   0.0s\n",
            "[CV] END .......................................max_depth=39; total time=   0.0s\n",
            "[CV] END .......................................max_depth=39; total time=   0.0s\n",
            "[CV] END .......................................max_depth=39; total time=   0.0s\n",
            "[CV] END .......................................max_depth=39; total time=   0.0s\n",
            "[CV] END .......................................max_depth=39; total time=   0.0s\n",
            "[CV] END .......................................max_depth=40; total time=   0.0s\n",
            "[CV] END .......................................max_depth=40; total time=   0.0s\n",
            "[CV] END .......................................max_depth=40; total time=   0.0s\n",
            "[CV] END .......................................max_depth=40; total time=   0.0s\n",
            "[CV] END .......................................max_depth=40; total time=   0.0s\n",
            "[CV] END .......................................max_depth=41; total time=   0.0s\n",
            "[CV] END .......................................max_depth=41; total time=   0.0s\n",
            "[CV] END .......................................max_depth=41; total time=   0.0s\n",
            "[CV] END .......................................max_depth=41; total time=   0.0s\n",
            "[CV] END .......................................max_depth=41; total time=   0.0s\n",
            "[CV] END .......................................max_depth=42; total time=   0.0s\n",
            "[CV] END .......................................max_depth=42; total time=   0.0s\n",
            "[CV] END .......................................max_depth=42; total time=   0.0s\n",
            "[CV] END .......................................max_depth=42; total time=   0.0s\n",
            "[CV] END .......................................max_depth=42; total time=   0.0s\n",
            "[CV] END .......................................max_depth=43; total time=   0.0s\n",
            "[CV] END .......................................max_depth=43; total time=   0.0s\n",
            "[CV] END .......................................max_depth=43; total time=   0.0s\n",
            "[CV] END .......................................max_depth=43; total time=   0.0s\n",
            "[CV] END .......................................max_depth=43; total time=   0.0s\n",
            "[CV] END .......................................max_depth=44; total time=   0.0s\n",
            "[CV] END .......................................max_depth=44; total time=   0.0s\n",
            "[CV] END .......................................max_depth=44; total time=   0.0s\n",
            "[CV] END .......................................max_depth=44; total time=   0.0s\n",
            "[CV] END .......................................max_depth=44; total time=   0.0s\n",
            "[CV] END .......................................max_depth=45; total time=   0.0s\n",
            "[CV] END .......................................max_depth=45; total time=   0.0s\n",
            "[CV] END .......................................max_depth=45; total time=   0.0s\n",
            "[CV] END .......................................max_depth=45; total time=   0.0s\n",
            "[CV] END .......................................max_depth=45; total time=   0.0s\n",
            "[CV] END .......................................max_depth=46; total time=   0.0s\n",
            "[CV] END .......................................max_depth=46; total time=   0.0s\n",
            "[CV] END .......................................max_depth=46; total time=   0.0s\n",
            "[CV] END .......................................max_depth=46; total time=   0.0s\n",
            "[CV] END .......................................max_depth=46; total time=   0.0s\n",
            "[CV] END .......................................max_depth=47; total time=   0.0s\n",
            "[CV] END .......................................max_depth=47; total time=   0.0s\n",
            "[CV] END .......................................max_depth=47; total time=   0.0s\n",
            "[CV] END .......................................max_depth=47; total time=   0.0s\n",
            "[CV] END .......................................max_depth=47; total time=   0.0s\n",
            "[CV] END .......................................max_depth=48; total time=   0.0s\n",
            "[CV] END .......................................max_depth=48; total time=   0.0s\n",
            "[CV] END .......................................max_depth=48; total time=   0.0s\n",
            "[CV] END .......................................max_depth=48; total time=   0.0s\n",
            "[CV] END .......................................max_depth=48; total time=   0.0s\n",
            "[CV] END .......................................max_depth=49; total time=   0.0s\n",
            "[CV] END .......................................max_depth=49; total time=   0.0s\n",
            "[CV] END .......................................max_depth=49; total time=   0.0s\n",
            "[CV] END .......................................max_depth=49; total time=   0.0s\n",
            "[CV] END .......................................max_depth=49; total time=   0.0s\n",
            "[CV] END .......................................max_depth=50; total time=   0.0s\n",
            "[CV] END .......................................max_depth=50; total time=   0.0s\n",
            "[CV] END .......................................max_depth=50; total time=   0.0s\n",
            "[CV] END .......................................max_depth=50; total time=   0.0s\n",
            "[CV] END .......................................max_depth=50; total time=   0.0s\n",
            "[CV] END .......................................max_depth=51; total time=   0.0s\n",
            "[CV] END .......................................max_depth=51; total time=   0.0s\n",
            "[CV] END .......................................max_depth=51; total time=   0.0s\n",
            "[CV] END .......................................max_depth=51; total time=   0.0s\n",
            "[CV] END .......................................max_depth=51; total time=   0.0s\n",
            "[CV] END .......................................max_depth=52; total time=   0.0s\n",
            "[CV] END .......................................max_depth=52; total time=   0.0s\n",
            "[CV] END .......................................max_depth=52; total time=   0.0s\n",
            "[CV] END .......................................max_depth=52; total time=   0.0s\n",
            "[CV] END .......................................max_depth=52; total time=   0.0s\n",
            "[CV] END .......................................max_depth=53; total time=   0.0s\n",
            "[CV] END .......................................max_depth=53; total time=   0.0s\n",
            "[CV] END .......................................max_depth=53; total time=   0.0s\n",
            "[CV] END .......................................max_depth=53; total time=   0.0s\n",
            "[CV] END .......................................max_depth=53; total time=   0.0s\n",
            "[CV] END .......................................max_depth=54; total time=   0.0s\n",
            "[CV] END .......................................max_depth=54; total time=   0.0s\n",
            "[CV] END .......................................max_depth=54; total time=   0.0s\n",
            "[CV] END .......................................max_depth=54; total time=   0.0s\n",
            "[CV] END .......................................max_depth=54; total time=   0.0s\n",
            "[CV] END .......................................max_depth=55; total time=   0.0s\n",
            "[CV] END .......................................max_depth=55; total time=   0.0s\n",
            "[CV] END .......................................max_depth=55; total time=   0.0s\n",
            "[CV] END .......................................max_depth=55; total time=   0.0s\n",
            "[CV] END .......................................max_depth=55; total time=   0.0s\n",
            "[CV] END .......................................max_depth=56; total time=   0.0s\n",
            "[CV] END .......................................max_depth=56; total time=   0.0s\n",
            "[CV] END .......................................max_depth=56; total time=   0.0s\n",
            "[CV] END .......................................max_depth=56; total time=   0.0s\n",
            "[CV] END .......................................max_depth=56; total time=   0.0s\n",
            "[CV] END .......................................max_depth=57; total time=   0.0s\n",
            "[CV] END .......................................max_depth=57; total time=   0.0s\n",
            "[CV] END .......................................max_depth=57; total time=   0.0s\n",
            "[CV] END .......................................max_depth=57; total time=   0.0s\n",
            "[CV] END .......................................max_depth=57; total time=   0.0s\n",
            "[CV] END .......................................max_depth=58; total time=   0.0s\n",
            "[CV] END .......................................max_depth=58; total time=   0.0s\n",
            "[CV] END .......................................max_depth=58; total time=   0.0s\n",
            "[CV] END .......................................max_depth=58; total time=   0.0s\n",
            "[CV] END .......................................max_depth=58; total time=   0.0s\n",
            "[CV] END .......................................max_depth=59; total time=   0.0s\n",
            "[CV] END .......................................max_depth=59; total time=   0.0s\n",
            "[CV] END .......................................max_depth=59; total time=   0.0s\n",
            "[CV] END .......................................max_depth=59; total time=   0.0s\n",
            "[CV] END .......................................max_depth=59; total time=   0.0s\n",
            "[CV] END .......................................max_depth=60; total time=   0.0s\n",
            "[CV] END .......................................max_depth=60; total time=   0.0s\n",
            "[CV] END .......................................max_depth=60; total time=   0.0s\n",
            "[CV] END .......................................max_depth=60; total time=   0.0s\n",
            "[CV] END .......................................max_depth=60; total time=   0.0s\n",
            "[CV] END .......................................max_depth=61; total time=   0.0s\n",
            "[CV] END .......................................max_depth=61; total time=   0.0s\n",
            "[CV] END .......................................max_depth=61; total time=   0.0s\n",
            "[CV] END .......................................max_depth=61; total time=   0.0s\n",
            "[CV] END .......................................max_depth=61; total time=   0.0s\n",
            "[CV] END .......................................max_depth=62; total time=   0.0s\n",
            "[CV] END .......................................max_depth=62; total time=   0.0s\n",
            "[CV] END .......................................max_depth=62; total time=   0.0s\n",
            "[CV] END .......................................max_depth=62; total time=   0.0s\n",
            "[CV] END .......................................max_depth=62; total time=   0.0s\n",
            "[CV] END .......................................max_depth=63; total time=   0.0s\n",
            "[CV] END .......................................max_depth=63; total time=   0.0s\n",
            "[CV] END .......................................max_depth=63; total time=   0.0s\n",
            "[CV] END .......................................max_depth=63; total time=   0.0s\n",
            "[CV] END .......................................max_depth=63; total time=   0.0s\n",
            "[CV] END .......................................max_depth=64; total time=   0.0s\n",
            "[CV] END .......................................max_depth=64; total time=   0.0s\n",
            "[CV] END .......................................max_depth=64; total time=   0.0s\n",
            "[CV] END .......................................max_depth=64; total time=   0.0s\n",
            "[CV] END .......................................max_depth=64; total time=   0.0s\n",
            "[CV] END .......................................max_depth=65; total time=   0.0s\n",
            "[CV] END .......................................max_depth=65; total time=   0.0s\n",
            "[CV] END .......................................max_depth=65; total time=   0.0s\n",
            "[CV] END .......................................max_depth=65; total time=   0.0s\n",
            "[CV] END .......................................max_depth=65; total time=   0.0s\n",
            "[CV] END .......................................max_depth=66; total time=   0.0s\n",
            "[CV] END .......................................max_depth=66; total time=   0.0s\n",
            "[CV] END .......................................max_depth=66; total time=   0.0s\n",
            "[CV] END .......................................max_depth=66; total time=   0.0s\n",
            "[CV] END .......................................max_depth=66; total time=   0.0s\n",
            "[CV] END .......................................max_depth=67; total time=   0.0s\n",
            "[CV] END .......................................max_depth=67; total time=   0.0s\n",
            "[CV] END .......................................max_depth=67; total time=   0.0s\n",
            "[CV] END .......................................max_depth=67; total time=   0.0s\n",
            "[CV] END .......................................max_depth=67; total time=   0.0s\n",
            "[CV] END .......................................max_depth=68; total time=   0.0s\n",
            "[CV] END .......................................max_depth=68; total time=   0.0s\n",
            "[CV] END .......................................max_depth=68; total time=   0.0s\n",
            "[CV] END .......................................max_depth=68; total time=   0.0s\n",
            "[CV] END .......................................max_depth=68; total time=   0.0s\n",
            "[CV] END .......................................max_depth=69; total time=   0.0s\n",
            "[CV] END .......................................max_depth=69; total time=   0.0s\n",
            "[CV] END .......................................max_depth=69; total time=   0.0s\n",
            "[CV] END .......................................max_depth=69; total time=   0.0s\n",
            "[CV] END .......................................max_depth=69; total time=   0.0s\n",
            "[CV] END .......................................max_depth=70; total time=   0.0s\n",
            "[CV] END .......................................max_depth=70; total time=   0.0s\n",
            "[CV] END .......................................max_depth=70; total time=   0.0s\n",
            "[CV] END .......................................max_depth=70; total time=   0.0s\n",
            "[CV] END .......................................max_depth=70; total time=   0.0s\n",
            "[CV] END .......................................max_depth=71; total time=   0.0s\n",
            "[CV] END .......................................max_depth=71; total time=   0.0s\n",
            "[CV] END .......................................max_depth=71; total time=   0.0s\n",
            "[CV] END .......................................max_depth=71; total time=   0.0s\n",
            "[CV] END .......................................max_depth=71; total time=   0.0s\n",
            "[CV] END .......................................max_depth=72; total time=   0.0s\n",
            "[CV] END .......................................max_depth=72; total time=   0.0s\n",
            "[CV] END .......................................max_depth=72; total time=   0.0s\n",
            "[CV] END .......................................max_depth=72; total time=   0.0s\n",
            "[CV] END .......................................max_depth=72; total time=   0.0s\n",
            "[CV] END .......................................max_depth=73; total time=   0.0s\n",
            "[CV] END .......................................max_depth=73; total time=   0.0s\n",
            "[CV] END .......................................max_depth=73; total time=   0.0s\n",
            "[CV] END .......................................max_depth=73; total time=   0.0s\n",
            "[CV] END .......................................max_depth=73; total time=   0.0s\n",
            "[CV] END .......................................max_depth=74; total time=   0.0s\n",
            "[CV] END .......................................max_depth=74; total time=   0.0s\n",
            "[CV] END .......................................max_depth=74; total time=   0.0s\n",
            "[CV] END .......................................max_depth=74; total time=   0.0s\n",
            "[CV] END .......................................max_depth=74; total time=   0.0s\n",
            "[CV] END .......................................max_depth=75; total time=   0.0s\n",
            "[CV] END .......................................max_depth=75; total time=   0.0s\n",
            "[CV] END .......................................max_depth=75; total time=   0.0s\n",
            "[CV] END .......................................max_depth=75; total time=   0.0s\n",
            "[CV] END .......................................max_depth=75; total time=   0.0s\n",
            "[CV] END .......................................max_depth=76; total time=   0.0s\n",
            "[CV] END .......................................max_depth=76; total time=   0.0s\n",
            "[CV] END .......................................max_depth=76; total time=   0.0s\n",
            "[CV] END .......................................max_depth=76; total time=   0.0s\n",
            "[CV] END .......................................max_depth=76; total time=   0.0s\n",
            "[CV] END .......................................max_depth=77; total time=   0.0s\n",
            "[CV] END .......................................max_depth=77; total time=   0.0s\n",
            "[CV] END .......................................max_depth=77; total time=   0.0s\n",
            "[CV] END .......................................max_depth=77; total time=   0.0s\n",
            "[CV] END .......................................max_depth=77; total time=   0.0s\n",
            "[CV] END .......................................max_depth=78; total time=   0.0s\n",
            "[CV] END .......................................max_depth=78; total time=   0.0s\n",
            "[CV] END .......................................max_depth=78; total time=   0.0s\n",
            "[CV] END .......................................max_depth=78; total time=   0.0s\n",
            "[CV] END .......................................max_depth=78; total time=   0.0s\n",
            "[CV] END .......................................max_depth=79; total time=   0.0s\n",
            "[CV] END .......................................max_depth=79; total time=   0.0s\n",
            "[CV] END .......................................max_depth=79; total time=   0.0s\n",
            "[CV] END .......................................max_depth=79; total time=   0.0s\n",
            "[CV] END .......................................max_depth=79; total time=   0.0s\n",
            "[CV] END .......................................max_depth=80; total time=   0.0s\n",
            "[CV] END .......................................max_depth=80; total time=   0.0s\n",
            "[CV] END .......................................max_depth=80; total time=   0.0s\n",
            "[CV] END .......................................max_depth=80; total time=   0.0s\n",
            "[CV] END .......................................max_depth=80; total time=   0.0s\n",
            "[CV] END .......................................max_depth=81; total time=   0.0s\n",
            "[CV] END .......................................max_depth=81; total time=   0.0s\n",
            "[CV] END .......................................max_depth=81; total time=   0.0s\n",
            "[CV] END .......................................max_depth=81; total time=   0.0s\n",
            "[CV] END .......................................max_depth=81; total time=   0.0s\n",
            "[CV] END .......................................max_depth=82; total time=   0.0s\n",
            "[CV] END .......................................max_depth=82; total time=   0.0s\n",
            "[CV] END .......................................max_depth=82; total time=   0.0s\n",
            "[CV] END .......................................max_depth=82; total time=   0.0s\n",
            "[CV] END .......................................max_depth=82; total time=   0.0s\n",
            "[CV] END .......................................max_depth=83; total time=   0.0s\n",
            "[CV] END .......................................max_depth=83; total time=   0.0s\n",
            "[CV] END .......................................max_depth=83; total time=   0.0s\n",
            "[CV] END .......................................max_depth=83; total time=   0.0s\n",
            "[CV] END .......................................max_depth=83; total time=   0.0s\n",
            "[CV] END .......................................max_depth=84; total time=   0.0s\n",
            "[CV] END .......................................max_depth=84; total time=   0.0s\n",
            "[CV] END .......................................max_depth=84; total time=   0.0s\n",
            "[CV] END .......................................max_depth=84; total time=   0.0s\n",
            "[CV] END .......................................max_depth=84; total time=   0.0s\n",
            "[CV] END .......................................max_depth=85; total time=   0.0s\n",
            "[CV] END .......................................max_depth=85; total time=   0.0s\n",
            "[CV] END .......................................max_depth=85; total time=   0.0s\n",
            "[CV] END .......................................max_depth=85; total time=   0.0s\n",
            "[CV] END .......................................max_depth=85; total time=   0.0s\n",
            "[CV] END .......................................max_depth=86; total time=   0.0s\n",
            "[CV] END .......................................max_depth=86; total time=   0.0s\n",
            "[CV] END .......................................max_depth=86; total time=   0.0s\n",
            "[CV] END .......................................max_depth=86; total time=   0.0s\n",
            "[CV] END .......................................max_depth=86; total time=   0.0s\n",
            "[CV] END .......................................max_depth=87; total time=   0.0s\n",
            "[CV] END .......................................max_depth=87; total time=   0.0s\n",
            "[CV] END .......................................max_depth=87; total time=   0.0s\n",
            "[CV] END .......................................max_depth=87; total time=   0.0s\n",
            "[CV] END .......................................max_depth=87; total time=   0.0s\n",
            "[CV] END .......................................max_depth=88; total time=   0.0s\n",
            "[CV] END .......................................max_depth=88; total time=   0.0s\n",
            "[CV] END .......................................max_depth=88; total time=   0.0s\n",
            "[CV] END .......................................max_depth=88; total time=   0.0s\n",
            "[CV] END .......................................max_depth=88; total time=   0.0s\n",
            "[CV] END .......................................max_depth=89; total time=   0.0s\n",
            "[CV] END .......................................max_depth=89; total time=   0.0s\n",
            "[CV] END .......................................max_depth=89; total time=   0.0s\n",
            "[CV] END .......................................max_depth=89; total time=   0.0s\n",
            "[CV] END .......................................max_depth=89; total time=   0.0s\n",
            "[CV] END .......................................max_depth=90; total time=   0.0s\n",
            "[CV] END .......................................max_depth=90; total time=   0.0s\n",
            "[CV] END .......................................max_depth=90; total time=   0.0s\n",
            "[CV] END .......................................max_depth=90; total time=   0.0s\n",
            "[CV] END .......................................max_depth=90; total time=   0.0s\n",
            "[CV] END .......................................max_depth=91; total time=   0.0s\n",
            "[CV] END .......................................max_depth=91; total time=   0.0s\n",
            "[CV] END .......................................max_depth=91; total time=   0.0s\n",
            "[CV] END .......................................max_depth=91; total time=   0.0s\n",
            "[CV] END .......................................max_depth=91; total time=   0.0s\n",
            "[CV] END .......................................max_depth=92; total time=   0.0s\n",
            "[CV] END .......................................max_depth=92; total time=   0.0s\n",
            "[CV] END .......................................max_depth=92; total time=   0.0s\n",
            "[CV] END .......................................max_depth=92; total time=   0.0s\n",
            "[CV] END .......................................max_depth=92; total time=   0.0s\n",
            "[CV] END .......................................max_depth=93; total time=   0.0s\n",
            "[CV] END .......................................max_depth=93; total time=   0.0s\n",
            "[CV] END .......................................max_depth=93; total time=   0.0s\n",
            "[CV] END .......................................max_depth=93; total time=   0.0s\n",
            "[CV] END .......................................max_depth=93; total time=   0.0s\n",
            "[CV] END .......................................max_depth=94; total time=   0.0s\n",
            "[CV] END .......................................max_depth=94; total time=   0.0s\n",
            "[CV] END .......................................max_depth=94; total time=   0.0s\n",
            "[CV] END .......................................max_depth=94; total time=   0.0s\n",
            "[CV] END .......................................max_depth=94; total time=   0.0s\n",
            "[CV] END .......................................max_depth=95; total time=   0.0s\n",
            "[CV] END .......................................max_depth=95; total time=   0.0s\n",
            "[CV] END .......................................max_depth=95; total time=   0.0s\n",
            "[CV] END .......................................max_depth=95; total time=   0.0s\n",
            "[CV] END .......................................max_depth=95; total time=   0.0s\n",
            "[CV] END .......................................max_depth=96; total time=   0.0s\n",
            "[CV] END .......................................max_depth=96; total time=   0.0s\n",
            "[CV] END .......................................max_depth=96; total time=   0.0s\n",
            "[CV] END .......................................max_depth=96; total time=   0.0s\n",
            "[CV] END .......................................max_depth=96; total time=   0.0s\n",
            "[CV] END .......................................max_depth=97; total time=   0.0s\n",
            "[CV] END .......................................max_depth=97; total time=   0.0s\n",
            "[CV] END .......................................max_depth=97; total time=   0.0s\n",
            "[CV] END .......................................max_depth=97; total time=   0.0s\n",
            "[CV] END .......................................max_depth=97; total time=   0.0s\n",
            "[CV] END .......................................max_depth=98; total time=   0.0s\n",
            "[CV] END .......................................max_depth=98; total time=   0.0s\n",
            "[CV] END .......................................max_depth=98; total time=   0.0s\n",
            "[CV] END .......................................max_depth=98; total time=   0.0s\n",
            "[CV] END .......................................max_depth=98; total time=   0.0s\n",
            "[CV] END .......................................max_depth=99; total time=   0.0s\n",
            "[CV] END .......................................max_depth=99; total time=   0.0s\n",
            "[CV] END .......................................max_depth=99; total time=   0.0s\n",
            "[CV] END .......................................max_depth=99; total time=   0.0s\n",
            "[CV] END .......................................max_depth=99; total time=   0.0s\n"
          ]
        }
      ]
    },
    {
      "cell_type": "code",
      "source": [
        "# Вывод наилучших параметров и оценки\n",
        "print(\"Наилучший параметр:\", decision_tree_model.best_params_)\n",
        "print(\"Лучшая оценка (точность (без тестовых данных)):\\\n",
        " {:.2f}%\".format(decision_tree_model.best_score_ * 100))\n",
        "\n",
        "# Тестирование модели с наилучшими параметрами\n",
        "best_desicion_tree = decision_tree_model.best_estimator_\n",
        "Y_predicted = best_desicion_tree.predict(X_test)\n",
        "\n",
        "print(classification_report(Y_test, Y_predicted))"
      ],
      "metadata": {
        "colab": {
          "base_uri": "https://localhost:8080/"
        },
        "id": "exnSEto8xwud",
        "outputId": "efe83e1a-3d9e-48b1-e428-f5b27a5ecfee"
      },
      "execution_count": 11,
      "outputs": [
        {
          "output_type": "stream",
          "name": "stdout",
          "text": [
            "Наилучший параметр: {'max_depth': 3}\n",
            "Лучшая оценка (точность (без тестовых данных)): 69.64%\n",
            "              precision    recall  f1-score   support\n",
            "\n",
            "           0       0.83      0.83      0.83         6\n",
            "           1       0.50      0.50      0.50         2\n",
            "\n",
            "    accuracy                           0.75         8\n",
            "   macro avg       0.67      0.67      0.67         8\n",
            "weighted avg       0.75      0.75      0.75         8\n",
            "\n"
          ]
        }
      ]
    },
    {
      "cell_type": "markdown",
      "source": [
        "##### случайный лес"
      ],
      "metadata": {
        "id": "IxCwdayc0gpN"
      }
    },
    {
      "cell_type": "code",
      "source": [
        "# метод\n",
        "random_forest = RandomForestClassifier()\n",
        "# параметры\n",
        "grid_params={'max_depth': range (1, 21)}\n",
        "# создание объекта GridSearchCV\n",
        "grid = GridSearchCV(random_forest, grid_params, cv = 5,\n",
        "                    scoring = 'accuracy', verbose = 2)\n",
        "\n",
        "# обучение модели с перебором параметров\n",
        "random_forest_model = grid.fit(X_train, Y_train)"
      ],
      "metadata": {
        "colab": {
          "base_uri": "https://localhost:8080/"
        },
        "id": "rXUQ_T7c0f-k",
        "outputId": "6aee1d7e-02d3-4d63-9ea4-afa9defcc658"
      },
      "execution_count": 12,
      "outputs": [
        {
          "output_type": "stream",
          "name": "stdout",
          "text": [
            "Fitting 5 folds for each of 20 candidates, totalling 100 fits\n",
            "[CV] END ........................................max_depth=1; total time=   0.2s\n",
            "[CV] END ........................................max_depth=1; total time=   0.2s\n",
            "[CV] END ........................................max_depth=1; total time=   0.2s\n",
            "[CV] END ........................................max_depth=1; total time=   0.2s\n",
            "[CV] END ........................................max_depth=1; total time=   0.2s\n",
            "[CV] END ........................................max_depth=2; total time=   0.2s\n",
            "[CV] END ........................................max_depth=2; total time=   0.2s\n",
            "[CV] END ........................................max_depth=2; total time=   0.3s\n",
            "[CV] END ........................................max_depth=2; total time=   0.3s\n",
            "[CV] END ........................................max_depth=2; total time=   0.4s\n",
            "[CV] END ........................................max_depth=3; total time=   0.3s\n",
            "[CV] END ........................................max_depth=3; total time=   0.3s\n",
            "[CV] END ........................................max_depth=3; total time=   0.4s\n",
            "[CV] END ........................................max_depth=3; total time=   0.3s\n",
            "[CV] END ........................................max_depth=3; total time=   0.3s\n",
            "[CV] END ........................................max_depth=4; total time=   0.3s\n",
            "[CV] END ........................................max_depth=4; total time=   0.3s\n",
            "[CV] END ........................................max_depth=4; total time=   0.3s\n",
            "[CV] END ........................................max_depth=4; total time=   0.3s\n",
            "[CV] END ........................................max_depth=4; total time=   0.3s\n",
            "[CV] END ........................................max_depth=5; total time=   0.5s\n",
            "[CV] END ........................................max_depth=5; total time=   0.4s\n",
            "[CV] END ........................................max_depth=5; total time=   0.5s\n",
            "[CV] END ........................................max_depth=5; total time=   0.8s\n",
            "[CV] END ........................................max_depth=5; total time=   0.6s\n",
            "[CV] END ........................................max_depth=6; total time=   0.7s\n",
            "[CV] END ........................................max_depth=6; total time=   0.7s\n",
            "[CV] END ........................................max_depth=6; total time=   0.9s\n",
            "[CV] END ........................................max_depth=6; total time=   0.5s\n",
            "[CV] END ........................................max_depth=6; total time=   0.3s\n",
            "[CV] END ........................................max_depth=7; total time=   0.3s\n",
            "[CV] END ........................................max_depth=7; total time=   0.3s\n",
            "[CV] END ........................................max_depth=7; total time=   0.3s\n",
            "[CV] END ........................................max_depth=7; total time=   0.3s\n",
            "[CV] END ........................................max_depth=7; total time=   0.4s\n",
            "[CV] END ........................................max_depth=8; total time=   0.3s\n",
            "[CV] END ........................................max_depth=8; total time=   0.4s\n",
            "[CV] END ........................................max_depth=8; total time=   0.3s\n",
            "[CV] END ........................................max_depth=8; total time=   0.3s\n",
            "[CV] END ........................................max_depth=8; total time=   0.3s\n",
            "[CV] END ........................................max_depth=9; total time=   0.4s\n",
            "[CV] END ........................................max_depth=9; total time=   0.7s\n",
            "[CV] END ........................................max_depth=9; total time=   0.5s\n",
            "[CV] END ........................................max_depth=9; total time=   0.4s\n",
            "[CV] END ........................................max_depth=9; total time=   0.4s\n",
            "[CV] END .......................................max_depth=10; total time=   0.4s\n",
            "[CV] END .......................................max_depth=10; total time=   0.5s\n",
            "[CV] END .......................................max_depth=10; total time=   0.3s\n",
            "[CV] END .......................................max_depth=10; total time=   0.4s\n",
            "[CV] END .......................................max_depth=10; total time=   0.4s\n",
            "[CV] END .......................................max_depth=11; total time=   0.4s\n",
            "[CV] END .......................................max_depth=11; total time=   0.3s\n",
            "[CV] END .......................................max_depth=11; total time=   0.5s\n",
            "[CV] END .......................................max_depth=11; total time=   0.3s\n",
            "[CV] END .......................................max_depth=11; total time=   0.4s\n",
            "[CV] END .......................................max_depth=12; total time=   0.8s\n",
            "[CV] END .......................................max_depth=12; total time=   0.8s\n",
            "[CV] END .......................................max_depth=12; total time=   0.8s\n",
            "[CV] END .......................................max_depth=12; total time=   0.9s\n",
            "[CV] END .......................................max_depth=12; total time=   0.6s\n",
            "[CV] END .......................................max_depth=13; total time=   0.4s\n",
            "[CV] END .......................................max_depth=13; total time=   0.3s\n",
            "[CV] END .......................................max_depth=13; total time=   0.3s\n",
            "[CV] END .......................................max_depth=13; total time=   0.4s\n",
            "[CV] END .......................................max_depth=13; total time=   0.3s\n",
            "[CV] END .......................................max_depth=14; total time=   0.3s\n",
            "[CV] END .......................................max_depth=14; total time=   0.4s\n",
            "[CV] END .......................................max_depth=14; total time=   0.3s\n",
            "[CV] END .......................................max_depth=14; total time=   0.3s\n",
            "[CV] END .......................................max_depth=14; total time=   0.3s\n",
            "[CV] END .......................................max_depth=15; total time=   0.3s\n",
            "[CV] END .......................................max_depth=15; total time=   0.5s\n",
            "[CV] END .......................................max_depth=15; total time=   0.3s\n",
            "[CV] END .......................................max_depth=15; total time=   0.2s\n",
            "[CV] END .......................................max_depth=15; total time=   0.2s\n",
            "[CV] END .......................................max_depth=16; total time=   0.2s\n",
            "[CV] END .......................................max_depth=16; total time=   0.2s\n",
            "[CV] END .......................................max_depth=16; total time=   0.1s\n",
            "[CV] END .......................................max_depth=16; total time=   0.2s\n",
            "[CV] END .......................................max_depth=16; total time=   0.1s\n",
            "[CV] END .......................................max_depth=17; total time=   0.2s\n",
            "[CV] END .......................................max_depth=17; total time=   0.1s\n",
            "[CV] END .......................................max_depth=17; total time=   0.2s\n",
            "[CV] END .......................................max_depth=17; total time=   0.2s\n",
            "[CV] END .......................................max_depth=17; total time=   0.1s\n",
            "[CV] END .......................................max_depth=18; total time=   0.1s\n",
            "[CV] END .......................................max_depth=18; total time=   0.2s\n",
            "[CV] END .......................................max_depth=18; total time=   0.1s\n",
            "[CV] END .......................................max_depth=18; total time=   0.2s\n",
            "[CV] END .......................................max_depth=18; total time=   0.1s\n",
            "[CV] END .......................................max_depth=19; total time=   0.2s\n",
            "[CV] END .......................................max_depth=19; total time=   0.2s\n",
            "[CV] END .......................................max_depth=19; total time=   0.2s\n",
            "[CV] END .......................................max_depth=19; total time=   0.2s\n",
            "[CV] END .......................................max_depth=19; total time=   0.1s\n",
            "[CV] END .......................................max_depth=20; total time=   0.2s\n",
            "[CV] END .......................................max_depth=20; total time=   0.2s\n",
            "[CV] END .......................................max_depth=20; total time=   0.2s\n",
            "[CV] END .......................................max_depth=20; total time=   0.2s\n",
            "[CV] END .......................................max_depth=20; total time=   0.1s\n"
          ]
        }
      ]
    },
    {
      "cell_type": "code",
      "source": [
        "# Вывод наилучших параметров и оценки\n",
        "print(\"Наилучший параметр:\", random_forest_model.best_params_)\n",
        "print(\"Лучшая оценка (точность (без тестовых данных)):\\\n",
        " {:.2f}%\".format(random_forest_model.best_score_ * 100))\n",
        "\n",
        "# Тестирование модели с наилучшими параметрами\n",
        "best_forest = random_forest_model.best_estimator_\n",
        "Y_predicted = best_forest.predict(X_test)\n",
        "\n",
        "print(classification_report(Y_test, Y_predicted))"
      ],
      "metadata": {
        "colab": {
          "base_uri": "https://localhost:8080/"
        },
        "id": "b1K6gP5u0rrw",
        "outputId": "7bf08a69-91e2-42ad-c317-a4f08fc31000"
      },
      "execution_count": 13,
      "outputs": [
        {
          "output_type": "stream",
          "name": "stdout",
          "text": [
            "Наилучший параметр: {'max_depth': 11}\n",
            "Лучшая оценка (точность (без тестовых данных)): 74.64%\n",
            "              precision    recall  f1-score   support\n",
            "\n",
            "           0       0.75      0.50      0.60         6\n",
            "           1       0.25      0.50      0.33         2\n",
            "\n",
            "    accuracy                           0.50         8\n",
            "   macro avg       0.50      0.50      0.47         8\n",
            "weighted avg       0.62      0.50      0.53         8\n",
            "\n"
          ]
        }
      ]
    },
    {
      "cell_type": "markdown",
      "source": [
        "### Задания 6-7.\n",
        "#### Сравнить качество всех моделей на обучающей и тестовой выборке отдельно по метрикам Accuracy, ROC-AUC, Precision, Recall, F1-мера. Обратите внимание, что 4 из 5 метрик требуют определения порога отсечения по вероятности. В качестве эвристики предлагается взять его как среднее значение полученных вероятностей (желательно, но не обязательно:подобрать по сетке такой порог, при котором precision и recall примерно уравниваются). Проанализировать различие в качестве между моделями. Определить на основе метрик модели, в которых сильно выражено переобучение.\n",
        "\n"
      ],
      "metadata": {
        "id": "01Vgewke0L_t"
      }
    },
    {
      "cell_type": "code",
      "source": [
        "# массив пороговых значений от 0 до 1 с 1000 точками\n",
        "thresholds = np.linspace(0, 1, 1000)\n",
        "# список для хранения значений F1-меры\n",
        "f1_scores = []\n",
        "# вероятности принадлежности к классу 1 (positive) из модели k-ближайших соседей\n",
        "y_scores = knn_model.predict_proba(X_test)[:, 1]\n",
        "\n",
        "# перебираем пороговые значения и вычисляем F1-меру для каждого\n",
        "for threshold in thresholds:\n",
        "    y_pred = [1 if score >= threshold else 0 for score in y_scores]\n",
        "    f1 = f1_score(Y_test, y_pred)\n",
        "    f1_scores.append(f1)\n",
        "\n",
        "\n",
        "plt.figure(figsize=(10, 6))\n",
        "plt.plot(thresholds, f1_scores)\n",
        "plt.xlabel('Порог отсечения')\n",
        "plt.ylabel('F1-мера')\n",
        "plt.grid(True)\n",
        "plt.title('KNN: F1-мера по отношению к порогу отсечения')\n",
        "plt.xticks(np.arange(0, 1.1, 0.05))\n",
        "plt.show()"
      ],
      "metadata": {
        "colab": {
          "base_uri": "https://localhost:8080/",
          "height": 564
        },
        "id": "O9_gZQ_J4lGE",
        "outputId": "46b62a89-2b28-4c41-973f-69a61e248227"
      },
      "execution_count": 14,
      "outputs": [
        {
          "output_type": "display_data",
          "data": {
            "text/plain": [
              "<Figure size 1000x600 with 1 Axes>"
            ],
            "image/png": "[encoded data removed]"
          },
          "metadata": {}
        }
      ]
    },
    {
      "cell_type": "code",
      "source": [
        "# массив пороговых значений от 0 до 1 с 1000 точками\n",
        "thresholds = np.linspace(0, 1, 1000)\n",
        "# список для хранения значений F1-меры\n",
        "f1_scores = []\n",
        "# вероятности принадлежности к классу 1 (positive) из модели k-ближайших соседей\n",
        "y_scores = logistic_model2.predict_proba(X_test)[:, 1]\n",
        "\n",
        "# перебираем пороговые значения и вычисляем F1-меру для каждого\n",
        "for threshold in thresholds:\n",
        "    y_pred = [1 if score >= threshold else 0 for score in y_scores]\n",
        "    f1 = f1_score(Y_test, y_pred)\n",
        "    f1_scores.append(f1)\n",
        "\n",
        "\n",
        "plt.figure(figsize=(10, 6))\n",
        "plt.plot(thresholds, f1_scores)\n",
        "plt.xlabel('Порог отсечения')\n",
        "plt.ylabel('F1-мера')\n",
        "plt.grid(True)\n",
        "plt.title('Логистическая регрессия: F1-мера по отношению к порогу отсечения')\n",
        "plt.xticks(np.arange(0, 1.1, 0.05))\n",
        "plt.show()"
      ],
      "metadata": {
        "id": "VVBA2ViY4lIc",
        "colab": {
          "base_uri": "https://localhost:8080/",
          "height": 564
        },
        "outputId": "8072f321-5990-44df-bdab-38ecf2461dfc"
      },
      "execution_count": 15,
      "outputs": [
        {
          "output_type": "display_data",
          "data": {
            "text/plain": [
              "<Figure size 1000x600 with 1 Axes>"
            ],
            "image/png": "[encoded data removed]"
          },
          "metadata": {}
        }
      ]
    },
    {
      "cell_type": "code",
      "source": [
        "# массив пороговых значений от 0 до 1 с 1000 точками\n",
        "thresholds = np.linspace(0, 1, 1000)\n",
        "# список для хранения значений F1-меры\n",
        "f1_scores = []\n",
        "# вероятности принадлежности к классу 1 (positive) из модели k-ближайших соседей\n",
        "y_scores = decision_tree_model.predict_proba(X_test)[:, 1]\n",
        "\n",
        "# перебираем пороговые значения и вычисляем F1-меру для каждого\n",
        "for threshold in thresholds:\n",
        "    y_pred = [1 if score >= threshold else 0 for score in y_scores]\n",
        "    f1 = f1_score(Y_test, y_pred)\n",
        "    f1_scores.append(f1)\n",
        "\n",
        "\n",
        "plt.figure(figsize=(10, 6))\n",
        "plt.plot(thresholds, f1_scores)\n",
        "plt.xlabel('Порог отсечения')\n",
        "plt.ylabel('F1-мера')\n",
        "plt.grid(True)\n",
        "plt.title('Дерево решений: F1-мера по отношению к порогу отсечения')\n",
        "plt.xticks(np.arange(0, 1.1, 0.05))\n",
        "plt.show()"
      ],
      "metadata": {
        "id": "UMBjNM8f4lLe",
        "colab": {
          "base_uri": "https://localhost:8080/",
          "height": 564
        },
        "outputId": "dacf2026-6242-4ce4-ac8f-be96fb46d2b7"
      },
      "execution_count": 16,
      "outputs": [
        {
          "output_type": "display_data",
          "data": {
            "text/plain": [
              "<Figure size 1000x600 with 1 Axes>"
            ],
            "image/png": "[encoded data removed]"
          },
          "metadata": {}
        }
      ]
    },
    {
      "cell_type": "code",
      "source": [
        "# массив пороговых значений от 0 до 1 с 1000 точками\n",
        "thresholds = np.linspace(0, 1, 1000)\n",
        "# список для хранения значений F1-меры\n",
        "f1_scores = []\n",
        "# вероятности принадлежности к классу 1 (positive) из модели k-ближайших соседей\n",
        "y_scores = random_forest_model.predict_proba(X_test)[:, 1]\n",
        "\n",
        "# перебираем пороговые значения и вычисляем F1-меру для каждого\n",
        "for threshold in thresholds:\n",
        "    y_pred = [1 if score >= threshold else 0 for score in y_scores]\n",
        "    f1 = f1_score(Y_test, y_pred)\n",
        "    f1_scores.append(f1)\n",
        "\n",
        "\n",
        "plt.figure(figsize=(10, 6))\n",
        "plt.plot(thresholds, f1_scores)\n",
        "plt.xlabel('Порог отсечения')\n",
        "plt.ylabel('F1-мера')\n",
        "plt.grid(True)\n",
        "plt.title('Случайный лес: F1-мера по отношению к порогу отсечения')\n",
        "plt.xticks(np.arange(0, 1.1, 0.05))\n",
        "plt.show()"
      ],
      "metadata": {
        "colab": {
          "base_uri": "https://localhost:8080/",
          "height": 564
        },
        "id": "-vKdPpXKYIhl",
        "outputId": "4d6dc214-6180-4697-d773-af21333e69b3"
      },
      "execution_count": 17,
      "outputs": [
        {
          "output_type": "display_data",
          "data": {
            "text/plain": [
              "<Figure size 1000x600 with 1 Axes>"
            ],
            "image/png": "[encoded data removed]"
          },
          "metadata": {}
        }
      ]
    },
    {
      "cell_type": "markdown",
      "source": [
        "полученные пороги отсечения"
      ],
      "metadata": {
        "id": "ZYnj9MHqdCWY"
      }
    },
    {
      "cell_type": "code",
      "source": [
        "knn_threshold = 0.55\n",
        "logistic_regression_threshold = 0.65\n",
        "decision_tree_threshold = 0.3\n",
        "random_forest_threshold = 0.7"
      ],
      "metadata": {
        "id": "dpKUwKHLdFPd"
      },
      "execution_count": 18,
      "outputs": []
    },
    {
      "cell_type": "code",
      "source": [
        "print('НА ОСНОВЕ ТРЕНИРОВОЧНЫХ ДАННЫХ')\n",
        "y_scores = knn_model.predict_proba(X_test)[:,1]\n",
        "y_pred = [1 if score >= knn_threshold else 0 for score in y_scores]\n",
        "\n",
        "print('Accuracy: ', accuracy_score(Y_test, y_pred))\n",
        "print('Precision: ', precision_score(Y_test, y_pred))\n",
        "print('Recall: ', recall_score(Y_test, y_pred))\n",
        "print('F1: ', f1_score(Y_test, y_pred))\n",
        "print('ROC-AUC', roc_auc_score(Y_test, y_pred))\n",
        "\n",
        "print('\\n')\n",
        "print('НА ОСНОВЕ ТЕСТОВЫХ ДАННЫХ')\n",
        "y_scores = knn_model.predict_proba(X_train)[:,1]\n",
        "y_pred = [1 if score >= knn_threshold else 0 for score in y_scores]\n",
        "\n",
        "print('Accuracy: ', accuracy_score(Y_train, y_pred))\n",
        "print('Precision: ', precision_score(Y_train, y_pred))\n",
        "print('Recall: ', recall_score(Y_train, y_pred))\n",
        "print('F1: ', f1_score(Y_train, y_pred))\n",
        "print('ROC-AUC', roc_auc_score(Y_train, y_pred))"
      ],
      "metadata": {
        "colab": {
          "base_uri": "https://localhost:8080/"
        },
        "id": "RVt4WEkHdPLS",
        "outputId": "4e4f8cb3-f722-4566-8ee5-e22130595487"
      },
      "execution_count": 19,
      "outputs": [
        {
          "output_type": "stream",
          "name": "stdout",
          "text": [
            "НА ОСНОВЕ ТРЕНИРОВОЧНЫХ ДАННЫХ\n",
            "Accuracy:  0.75\n",
            "Precision:  0.5\n",
            "Recall:  0.5\n",
            "F1:  0.5\n",
            "ROC-AUC 0.6666666666666666\n",
            "\n",
            "\n",
            "НА ОСНОВЕ ТЕСТОВЫХ ДАННЫХ\n",
            "Accuracy:  0.7692307692307693\n",
            "Precision:  1.0\n",
            "Recall:  0.25\n",
            "F1:  0.4\n",
            "ROC-AUC 0.625\n"
          ]
        }
      ]
    },
    {
      "cell_type": "code",
      "source": [
        "print('НА ОСНОВЕ ТРЕНИРОВОЧНЫХ ДАННЫХ')\n",
        "y_scores = logistic_model.predict_proba(X_test)[:,1]\n",
        "y_pred = [1 if score >= logistic_regression_threshold else 0 for score in y_scores]\n",
        "\n",
        "print('Accuracy: ', accuracy_score(Y_test, y_pred))\n",
        "print('Precision: ', precision_score(Y_test, y_pred))\n",
        "print('Recall: ', recall_score(Y_test, y_pred))\n",
        "print('F1: ', f1_score(Y_test, y_pred))\n",
        "print('ROC-AUC', roc_auc_score(Y_test, y_pred))\n",
        "\n",
        "print('\\n')\n",
        "print('НА ОСНОВЕ ТЕСТОВЫХ ДАННЫХ')\n",
        "y_scores = logistic_model.predict_proba(X_train)[:,1]\n",
        "y_pred = [1 if score >= logistic_regression_threshold else 0 for score in y_scores]\n",
        "\n",
        "print('Accuracy: ', accuracy_score(Y_train, y_pred))\n",
        "print('Precision: ', precision_score(Y_train, y_pred))\n",
        "print('Recall: ', recall_score(Y_train, y_pred))\n",
        "print('F1: ', f1_score(Y_train, y_pred))\n",
        "print('ROC-AUC', roc_auc_score(Y_train, y_pred))"
      ],
      "metadata": {
        "colab": {
          "base_uri": "https://localhost:8080/"
        },
        "id": "R8j-o1zzdRDA",
        "outputId": "2fa3cb21-cac5-4ae9-e9e5-a9265aed9b61"
      },
      "execution_count": 20,
      "outputs": [
        {
          "output_type": "stream",
          "name": "stdout",
          "text": [
            "НА ОСНОВЕ ТРЕНИРОВОЧНЫХ ДАННЫХ\n",
            "Accuracy:  0.5\n",
            "Precision:  0.25\n",
            "Recall:  0.5\n",
            "F1:  0.3333333333333333\n",
            "ROC-AUC 0.5\n",
            "\n",
            "\n",
            "НА ОСНОВЕ ТЕСТОВЫХ ДАННЫХ\n",
            "Accuracy:  0.8461538461538461\n",
            "Precision:  1.0\n",
            "Recall:  0.5\n",
            "F1:  0.6666666666666666\n",
            "ROC-AUC 0.75\n"
          ]
        }
      ]
    },
    {
      "cell_type": "code",
      "source": [
        "print('НА ОСНОВЕ ТРЕНИРОВОЧНЫХ ДАННЫХ')\n",
        "y_scores = decision_tree_model.predict_proba(X_test)[:,1]\n",
        "y_pred = [1 if score >= decision_tree_threshold else 0 for score in y_scores]\n",
        "\n",
        "print('Accuracy: ', accuracy_score(Y_test, y_pred))\n",
        "print('Precision: ', precision_score(Y_test, y_pred))\n",
        "print('Recall: ', recall_score(Y_test, y_pred))\n",
        "print('F1: ', f1_score(Y_test, y_pred))\n",
        "print('ROC-AUC', roc_auc_score(Y_test, y_pred))\n",
        "\n",
        "\n",
        "print('\\n')\n",
        "print('НА ОСНОВЕ ТЕСТОВЫХ ДАННЫХ')\n",
        "y_scores = decision_tree_model.predict_proba(X_train)[:,1]\n",
        "y_pred = [1 if score >= decision_tree_threshold else 0 for score in y_scores]\n",
        "\n",
        "print('Accuracy: ', accuracy_score(Y_train, y_pred))\n",
        "print('Precision: ', precision_score(Y_train, y_pred))\n",
        "print('Recall: ', recall_score(Y_train, y_pred))\n",
        "print('F1: ', f1_score(Y_train, y_pred))\n",
        "print('ROC-AUC', roc_auc_score(Y_train, y_pred))"
      ],
      "metadata": {
        "colab": {
          "base_uri": "https://localhost:8080/"
        },
        "id": "KBA8aZMldTSr",
        "outputId": "ff523c33-df6c-438f-dccf-cc69331f8cb0"
      },
      "execution_count": 21,
      "outputs": [
        {
          "output_type": "stream",
          "name": "stdout",
          "text": [
            "НА ОСНОВЕ ТРЕНИРОВОЧНЫХ ДАННЫХ\n",
            "Accuracy:  0.75\n",
            "Precision:  0.5\n",
            "Recall:  0.5\n",
            "F1:  0.5\n",
            "ROC-AUC 0.6666666666666666\n",
            "\n",
            "\n",
            "НА ОСНОВЕ ТЕСТОВЫХ ДАННЫХ\n",
            "Accuracy:  0.8974358974358975\n",
            "Precision:  1.0\n",
            "Recall:  0.6666666666666666\n",
            "F1:  0.8\n",
            "ROC-AUC 0.8333333333333333\n"
          ]
        }
      ]
    },
    {
      "cell_type": "code",
      "source": [
        "print('НА ОСНОВЕ ТРЕНИРОВОЧНЫХ ДАННЫХ')\n",
        "y_scores = random_forest_model.predict_proba(X_test)[:,1]\n",
        "y_pred = [1 if score >= random_forest_threshold else 0 for score in y_scores]\n",
        "\n",
        "print('Accuracy: ', accuracy_score(Y_test, y_pred))\n",
        "print('Precision: ', precision_score(Y_test, y_pred))\n",
        "print('Recall: ', recall_score(Y_test, y_pred))\n",
        "print('F1: ', f1_score(Y_test, y_pred))\n",
        "print('ROC-AUC', roc_auc_score(Y_test, y_pred))\n",
        "\n",
        "\n",
        "print('\\n')\n",
        "print('НА ОСНОВЕ ТЕСТОВЫХ ДАННЫХ')\n",
        "y_scores = random_forest_model.predict_proba(X_train)[:,1]\n",
        "y_pred = [1 if score >= random_forest_threshold else 0 for score in y_scores]\n",
        "\n",
        "print('Accuracy: ', accuracy_score(Y_train, y_pred))\n",
        "print('Precision: ', precision_score(Y_train, y_pred))\n",
        "print('Recall: ', recall_score(Y_train, y_pred))\n",
        "print('F1: ', f1_score(Y_train, y_pred))\n",
        "print('ROC-AUC', roc_auc_score(Y_train, y_pred))"
      ],
      "metadata": {
        "colab": {
          "base_uri": "https://localhost:8080/"
        },
        "id": "Cpo41hxGdV1q",
        "outputId": "e53d1c4c-24b0-4f7b-869f-2ea7853cc49d"
      },
      "execution_count": 22,
      "outputs": [
        {
          "output_type": "stream",
          "name": "stdout",
          "text": [
            "НА ОСНОВЕ ТРЕНИРОВОЧНЫХ ДАННЫХ\n",
            "Accuracy:  0.625\n",
            "Precision:  0.3333333333333333\n",
            "Recall:  0.5\n",
            "F1:  0.4\n",
            "ROC-AUC 0.5833333333333334\n",
            "\n",
            "\n",
            "НА ОСНОВЕ ТЕСТОВЫХ ДАННЫХ\n",
            "Accuracy:  0.9743589743589743\n",
            "Precision:  1.0\n",
            "Recall:  0.9166666666666666\n",
            "F1:  0.9565217391304348\n",
            "ROC-AUC 0.9583333333333333\n"
          ]
        }
      ]
    },
    {
      "cell_type": "markdown",
      "source": [
        "### Задание 8.\n",
        "#### Сравнить полученную важность признаков в модели логистической регрессии, в модели деревьев решений и в случайном лесе (для древесных моделей это можно сделать с помощью ключа feature_importances у обученной модели). Проинтерпретировать полученную важность признаков.\n"
      ],
      "metadata": {
        "id": "5KWSQLeIqPTg"
      }
    },
    {
      "cell_type": "code",
      "source": [
        "print('Важность признаков в модели логистической регрессии\\n')\n",
        "\n",
        "print(pd.DataFrame(logistic_model.best_estimator_.coef_, columns=['x2', 'x3', 'x4', 'x5', 'x6', 'x7', 'x8', 'x9']))"
      ],
      "metadata": {
        "colab": {
          "base_uri": "https://localhost:8080/"
        },
        "id": "yz3VGHmY7yVb",
        "outputId": "be476577-ee20-4593-ba56-22a5ce6a7581"
      },
      "execution_count": 23,
      "outputs": [
        {
          "output_type": "stream",
          "name": "stdout",
          "text": [
            "Важность признаков в модели логистической регрессии\n",
            "\n",
            "         x2        x3        x4        x5        x6        x7        x8  \\\n",
            "0 -0.612072  0.813513 -0.619968  0.391649 -0.608739 -1.211684 -0.550841   \n",
            "\n",
            "         x9  \n",
            "0  0.311528  \n"
          ]
        }
      ]
    },
    {
      "cell_type": "code",
      "source": [
        "feature_importance = decision_tree_model.best_estimator_.feature_importances_\n",
        "plt.figure(figsize=(10, 6))\n",
        "plt.bar(range(len(feature_importance)), feature_importance)\n",
        "plt.xticks(range(len(feature_importance)), labels=X.columns)\n",
        "plt.xlabel('Признаки')\n",
        "plt.ylabel('Важность признаков')\n",
        "plt.title('Важность признаков в модели дерева решений')\n",
        "plt.show()"
      ],
      "metadata": {
        "colab": {
          "base_uri": "https://localhost:8080/",
          "height": 564
        },
        "id": "tv-1FmYTqOve",
        "outputId": "6d519d4c-b43d-4470-ac23-0e807c8d369b"
      },
      "execution_count": 24,
      "outputs": [
        {
          "output_type": "display_data",
          "data": {
            "text/plain": [
              "<Figure size 1000x600 with 1 Axes>"
            ],
            "image/png": "[encoded data removed]"
          },
          "metadata": {}
        }
      ]
    },
    {
      "cell_type": "code",
      "source": [
        "feature_importance = random_forest_model.best_estimator_.feature_importances_\n",
        "plt.figure(figsize=(10, 6))\n",
        "plt.bar(range(len(feature_importance)), feature_importance)\n",
        "plt.xticks(range(len(feature_importance)), labels=X.columns)\n",
        "plt.xlabel('Признаки')\n",
        "plt.ylabel('Важность признаков')\n",
        "plt.title('Важность признаков в модели случайного леса')\n",
        "plt.show()"
      ],
      "metadata": {
        "colab": {
          "base_uri": "https://localhost:8080/",
          "height": 564
        },
        "id": "09BF6w1S7GoZ",
        "outputId": "a1063b70-4920-4265-e8e8-80328e0fe314"
      },
      "execution_count": 25,
      "outputs": [
        {
          "output_type": "display_data",
          "data": {
            "text/plain": [
              "<Figure size 1000x600 with 1 Axes>"
            ],
            "image/png": "[encoded data removed]"
          },
          "metadata": {}
        }
      ]
    }
  ],
  "metadata": {
    "kernelspec": {
      "display_name": "Python 3",
      "language": "python",
      "name": "python3"
    },
    "language_info": {
      "codemirror_mode": {
        "name": "ipython",
        "version": 2
      },
      "file_extension": ".py",
      "mimetype": "text/x-python",
      "name": "python",
      "nbconvert_exporter": "python",
      "pygments_lexer": "ipython2",
      "version": "2.7.6"
    },
    "colab": {
      "provenance": []
    }
  },
  "nbformat": 4,
  "nbformat_minor": 0
}